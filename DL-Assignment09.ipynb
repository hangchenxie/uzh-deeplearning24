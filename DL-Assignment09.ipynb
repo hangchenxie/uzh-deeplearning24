{
 "cells": [
  {
   "cell_type": "markdown",
   "metadata": {
    "id": "V-rBVqNINttd"
   },
   "source": [
    "### Group Members:\n",
    "\n",
    "- Hangchen Xie, 22-736-789\n",
    "- Yanyang Gong, 23-744-063\n",
    "- Yaojie Wang, 23-741-283"
   ]
  },
  {
   "cell_type": "markdown",
   "metadata": {},
   "source": [
    "# Assignment 9: Convolutional Auto-Encoder\n",
    "\n",
    "In this assignment, we show that it is possible to learn from unlabeled data using a convolutional auto-encoder network.\n",
    "The task is to reduce an image of the handwritten digits of MNIST into a deep feature representation, without making use of their labels, and reconstruct the sample from that representation.\n",
    "\n",
    "For this purpose, we implement a convolutional auto-encoder that learns a $K=10$-dimensional deep feature representation of each image and uses this representation to reconstruct images to the original size of $28\\times28$ pixels.\n",
    "We show that such a network can be used to detect anomalies in the test set."
   ]
  },
  {
   "cell_type": "markdown",
   "metadata": {
    "id": "vjNUIs9WRTgF"
   },
   "source": [
    "## Dataset\n",
    "\n",
    "We will make use of `torchvision.datasets.MNIST` dataset and `torchvision.datasets.FashionMNIST` dataset.\n",
    "The former has 10 labels of digit images and the latter has 10 labels of merchandise images.\n",
    "However, besides the last task, we do not make use of the labels of the dataset, but we only utilize the images.\n",
    "\n",
    "These datasets can be split into train sets and test sets by the default implementation.\n",
    "We will use solely MNIST dataset for training and validation of autoencoder network.\n",
    "To use this network for anomaly detection, we will create a new testing set by combining the whole test set of MNIST and a\n",
    "randomly selected subset of FashionMNIST test set."
   ]
  },
  {
   "cell_type": "markdown",
   "metadata": {
    "id": "pwujs3MtOUBV"
   },
   "source": [
    "### Task 1: Datasets\n",
    "Write a dataset class that derives from `torch.utils.data.Dataset` that returns three values: data, target, and anomaly label. Implement the following three functions:\n",
    "\n",
    "1. The constructor `__init__(self, root, purpose, transform, anomaly_size)`. `root` is the saving path of dataset, `purpose` should be `train`, `val`, or `anomaly_detection`, and `anomaly_size` decides the number of test samples from FashionMNIST dataset. `torchvision.datasets.MNIST` and `torchvision.datasets.FashionMNIST` should be appropriately called here depending on `purpose`. Particularly, when `purpose=anomaly_detection`, a subset of FashionMNIST dataset should be randomly selected with size `anomaly_size`.\n",
    "2. The function `__len__(self)` returns the number of samples in our dataset.\n",
    "3. The index function `__getitem__(self, idx)` returns image, target, and data type indicator (-1 if anomalous, 1 otherwise) for a given index."
   ]
  },
  {
   "cell_type": "code",
   "metadata": {
    "id": "ztxUX_yhJPvv",
    "ExecuteTime": {
     "end_time": "2024-05-04T08:27:58.919628Z",
     "start_time": "2024-05-04T08:27:50.811581Z"
    }
   },
   "source": [
    "import torch\n",
    "import torchvision\n",
    "import numpy as np\n",
    "\n",
    "class MixedDataset(torch.utils.data.Dataset):\n",
    "    def __init__(self, root='./data', purpose=\"train\", transform=None, anomaly_size=2000):\n",
    "        # load MNIST dataset based on \"purpose\"\n",
    "        self.mnist_dataset = torchvision.datasets.MNIST(root=root, train=(purpose==\"train\"), download=True, transform=transform)\n",
    "\n",
    "        # load FashionMNIST dataset when \"purpose\" is \"anomaly_detection\" and randomly select samples with size \"anomaly_size\"\n",
    "        fashion_mnist_dataset = torchvision.datasets.FashionMNIST(root=root, train=False, download=True, transform=transform)\n",
    "        idx = np.random.choice(len(fashion_mnist_dataset), anomaly_size, replace=False)\n",
    "        self.fashion_mnist_dataset = torch.utils.data.Subset(fashion_mnist_dataset, idx)\n",
    "        \n",
    "        self.dataset = self.mnist_dataset if purpose != \"anomaly_detection\" else torch.utils.data.ConcatDataset([self.mnist_dataset, self.fashion_mnist_dataset])\n",
    "\n",
    "    def __len__(self):\n",
    "        # return length of the desired dataset based on its purpose\n",
    "        return len(self.dataset)\n",
    "\n",
    "    def __getitem__(self, idx):\n",
    "        # perform appropriate actions on the data, target, and its data type indicator (return 1 for regular and -1 for anomalous)\n",
    "        image, target = self.dataset[idx]\n",
    "        data_type = 1 if idx < len(self.mnist_dataset) else -1\n",
    "\n",
    "        return image, target, data_type\n"
   ],
   "outputs": [],
   "execution_count": 1
  },
  {
   "cell_type": "markdown",
   "metadata": {
    "id": "7Oc30hvxO4Ko"
   },
   "source": [
    "### Task 2: Data Loader\n",
    "\n",
    "Call the dataset class three times, use `torchvision.transforms.ToTensor()` as transform, with purpose = `train` (batch size = 32), `val` (batch size = 100), and `anomaly_detection` (batch size = 1000). The third dataset has `anomaly_size=2000`.\n",
    "Instantiate data loader for the three datasets.\n",
    "Remember to shuffle the third dataset."
   ]
  },
  {
   "cell_type": "code",
   "metadata": {
    "id": "Dyn2F-8BNaNV",
    "ExecuteTime": {
     "end_time": "2024-05-04T08:31:10.120422Z",
     "start_time": "2024-05-04T08:30:52.145739Z"
    }
   },
   "source": [
    "# define transform\n",
    "transform = torchvision.transforms.ToTensor()\n",
    "\n",
    "# instantiate training dataset and data loader\n",
    "train_dataset = MixedDataset(purpose=\"train\", transform=transform)\n",
    "train_loader = torch.utils.data.DataLoader(train_dataset, batch_size=32, shuffle=True)\n",
    "\n",
    "# instantiate validation dataset and data loader\n",
    "val_dataset = MixedDataset(purpose=\"val\", transform=transform)\n",
    "val_loader = torch.utils.data.DataLoader(val_dataset, batch_size=100)\n",
    "\n",
    "# instantiate anomaly detection dataset and data loader\n",
    "anomaly_detection_dataset = MixedDataset(purpose=\"anomaly_detection\", transform=transform, anomaly_size=2000)\n",
    "anomaly_detection_loader = torch.utils.data.DataLoader(anomaly_detection_dataset, batch_size=1000, shuffle=True)"
   ],
   "outputs": [
    {
     "name": "stdout",
     "output_type": "stream",
     "text": [
      "Downloading http://yann.lecun.com/exdb/mnist/train-images-idx3-ubyte.gz\n",
      "Failed to download (trying next):\n",
      "HTTP Error 403: Forbidden\n",
      "\n",
      "Downloading https://ossci-datasets.s3.amazonaws.com/mnist/train-images-idx3-ubyte.gz\n",
      "Downloading https://ossci-datasets.s3.amazonaws.com/mnist/train-images-idx3-ubyte.gz to ./data\\MNIST\\raw\\train-images-idx3-ubyte.gz\n"
     ]
    },
    {
     "name": "stderr",
     "output_type": "stream",
     "text": [
      "100%|██████████| 9912422/9912422 [00:08<00:00, 1217820.47it/s]\n"
     ]
    },
    {
     "name": "stdout",
     "output_type": "stream",
     "text": [
      "Extracting ./data\\MNIST\\raw\\train-images-idx3-ubyte.gz to ./data\\MNIST\\raw\n",
      "\n",
      "Downloading http://yann.lecun.com/exdb/mnist/train-labels-idx1-ubyte.gz\n",
      "Failed to download (trying next):\n",
      "HTTP Error 403: Forbidden\n",
      "\n",
      "Downloading https://ossci-datasets.s3.amazonaws.com/mnist/train-labels-idx1-ubyte.gz\n",
      "Downloading https://ossci-datasets.s3.amazonaws.com/mnist/train-labels-idx1-ubyte.gz to ./data\\MNIST\\raw\\train-labels-idx1-ubyte.gz\n"
     ]
    },
    {
     "name": "stderr",
     "output_type": "stream",
     "text": [
      "100%|██████████| 28881/28881 [00:00<00:00, 246775.53it/s]\n"
     ]
    },
    {
     "name": "stdout",
     "output_type": "stream",
     "text": [
      "Extracting ./data\\MNIST\\raw\\train-labels-idx1-ubyte.gz to ./data\\MNIST\\raw\n",
      "\n",
      "Downloading http://yann.lecun.com/exdb/mnist/t10k-images-idx3-ubyte.gz\n",
      "Failed to download (trying next):\n",
      "HTTP Error 403: Forbidden\n",
      "\n",
      "Downloading https://ossci-datasets.s3.amazonaws.com/mnist/t10k-images-idx3-ubyte.gz\n",
      "Downloading https://ossci-datasets.s3.amazonaws.com/mnist/t10k-images-idx3-ubyte.gz to ./data\\MNIST\\raw\\t10k-images-idx3-ubyte.gz\n"
     ]
    },
    {
     "name": "stderr",
     "output_type": "stream",
     "text": [
      "100%|██████████| 1648877/1648877 [00:01<00:00, 1473223.47it/s]\n"
     ]
    },
    {
     "name": "stdout",
     "output_type": "stream",
     "text": [
      "Extracting ./data\\MNIST\\raw\\t10k-images-idx3-ubyte.gz to ./data\\MNIST\\raw\n",
      "\n",
      "Downloading http://yann.lecun.com/exdb/mnist/t10k-labels-idx1-ubyte.gz\n",
      "Failed to download (trying next):\n",
      "HTTP Error 403: Forbidden\n",
      "\n",
      "Downloading https://ossci-datasets.s3.amazonaws.com/mnist/t10k-labels-idx1-ubyte.gz\n",
      "Downloading https://ossci-datasets.s3.amazonaws.com/mnist/t10k-labels-idx1-ubyte.gz to ./data\\MNIST\\raw\\t10k-labels-idx1-ubyte.gz\n"
     ]
    },
    {
     "name": "stderr",
     "output_type": "stream",
     "text": [
      "100%|██████████| 4542/4542 [00:00<00:00, 2271435.41it/s]"
     ]
    },
    {
     "name": "stdout",
     "output_type": "stream",
     "text": [
      "Extracting ./data\\MNIST\\raw\\t10k-labels-idx1-ubyte.gz to ./data\\MNIST\\raw\n",
      "\n"
     ]
    },
    {
     "name": "stderr",
     "output_type": "stream",
     "text": [
      "\n"
     ]
    }
   ],
   "execution_count": 2
  },
  {
   "cell_type": "markdown",
   "metadata": {
    "id": "bVI7sASPA1d5"
   },
   "source": [
    "### Test 1: Data Check\n",
    "\n",
    "Load one batch of train set, validation set, and anomaly detection set.\n",
    "For each set, check that input size of each sample is (1, 28, 28), targets are between 0 and 9, and the data type for the first two sets is 1 and there are -1 in the last set.\n",
    "\n",
    "Plot 20 samples from validation loader and 20 samples from anomaly detection loader and check whether samples from FashionMNIST are correctly loaded."
   ]
  },
  {
   "cell_type": "code",
   "metadata": {
    "id": "YdzbysQrKQ69",
    "ExecuteTime": {
     "end_time": "2024-05-04T08:31:58.281634Z",
     "start_time": "2024-05-04T08:31:56.559114Z"
    }
   },
   "source": [
    "from matplotlib import pyplot\n",
    "\n",
    "pyplot.rcParams['image.cmap'] = 'gray'\n",
    "\n",
    "fig, axes = pyplot.subplots(nrows=4, ncols=10, figsize=(15, 6))\n",
    "\n",
    "x_train, t_train, l_train = next(iter(train_loader))\n",
    "x_val, t_val, l_val = next(iter(val_loader))\n",
    "x_ad, t_ad, l_ad = next(iter(anomaly_detection_loader))\n",
    "\n",
    "assert len(train_dataset) == 60000\n",
    "assert len(val_dataset) == 10000\n",
    "assert len(anomaly_detection_dataset) == 12000\n",
    "assert x_train[0].shape == (1, 28, 28)\n",
    "assert x_val[0].shape == (1, 28, 28)\n",
    "assert x_ad[0].shape == (1, 28, 28)\n",
    "assert 0 <= t_train.all() <= 9\n",
    "assert 0 <= t_val.all() <= 9\n",
    "assert 0 <= t_ad.all() <= 9\n",
    "assert (l_val == 1).all()\n",
    "assert (l_train == 1).all()\n",
    "assert -1 in l_ad\n",
    "\n",
    "index=0\n",
    "for i in range(2):\n",
    "    for j in range(10):\n",
    "        axes[i][j].imshow(x_val[index].squeeze())\n",
    "        axes[i][j].axis(\"off\")\n",
    "        axes[i+2][j].imshow(x_ad[index].squeeze())\n",
    "        axes[i+2][j].axis(\"off\")\n",
    "        index+=1"
   ],
   "outputs": [
    {
     "data": {
      "text/plain": [
       "<Figure size 1500x600 with 40 Axes>"
      ],
      "image/png": "[encoded data removed]"
     },
     "metadata": {},
     "output_type": "display_data"
    }
   ],
   "execution_count": 3
  },
  {
   "cell_type": "markdown",
   "metadata": {
    "id": "Ohrvuk9qLX8a"
   },
   "source": [
    "## Auto-Encoder Network\n",
    "\n",
    "The auto-encoder network is composed of two parts: the encoder that transforms the input image to a deep feature representation; and the decoder that produces an image from such a deep feature.\n",
    "\n",
    "For the encoder $\\mathcal E$, we will use a similar convolutional network topology as in the past assignments.\n",
    "An exception is that we perform our down-sampling via striding and not via pooling.\n",
    "After each convolution, we apply the ReLU activation.\n",
    "The output of the encoder is a $K=10$ dimensional deep feature representation.\n",
    "The complete encoder network topology can be found below in Topology 1(a).\n",
    "\n",
    "The decoder $\\mathcal D$ performs the inverse operations of the encoder.\n",
    "A fully-connected layer is used to increase the number of samples to the same size as the output of the flattening of the encoder.\n",
    "Then, the flattening needs to be undone by reshaping the vector into the correct dimensionality, followed by a ReLU activation.\n",
    "A fractionally-strided convolutional layer increases the intermediate representation by a factor of 2.\n",
    "Note that the fractionally-strided convolution is implemented in `torch.nn.ConvTranspose2d`, and the `stride` parameter should have the same value as for the encoder.\n",
    "Additionally, the `torch.nn.ConvTranspose2d` has a parameter `output_padding` which needs to be adapted to reach the correct output shape (see Test 2).\n",
    "After this layer, we perform another ReLU activation and another fractionally-strided convolution to arrive at the original input dimension.\n",
    "The complete decoder network topology can be found below in Topology 1(b).\n",
    "\n",
    "Finally, we combine the two sub-networks into one auto-encoder network.\n",
    "While there exist several possibilities for doing this, we will implement a third `torch.nn.Module` that contains an instance of the encoder and an instance of the decoder."
   ]
  },
  {
   "cell_type": "markdown",
   "metadata": {
    "id": "iDSQU7nvluAM"
   },
   "source": [
    "Topology 1: Network configurations of the (a) encoder and (b) decoder networks\n",
    "\n",
    "(a) Encoder Network\n",
    "\n",
    "*   2D convolutional layer with $Q_1$ output channels, kernel size $5\\times5$, **stride 2** and padding 2\n",
    "*   activation function ReLU\n",
    "*   2D convolutional layer with $Q_2$ output channels, kernel size $5\\times5$, **stride 2** and padding 2\n",
    "*   flatten layer to convert the convolution output into a vector\n",
    "*   activation function ReLU\n",
    "*   fully-connected layer with the correct number of inputs and $K$ outputs\n",
    "\n",
    "(b) Encoder Network\n",
    "\n",
    "*   fully-connected layer with $K$ inputs and the correct number of outputs\n",
    "*   activation function ReLU\n",
    "*   reshaping to convert the vector into a convolution input\n",
    "*   2D **fractionally-strided convolutional** layer with $Q_2$ input channels, kernel size $5\\times5$, stride 2 and padding 2\n",
    "*   activation function ReLU\n",
    "*   2D **fractionally-strided convolutional** layer with $Q_1$ input channels, kernel size $5\\times5$, stride 2 and padding 2"
   ]
  },
  {
   "cell_type": "markdown",
   "metadata": {
    "id": "i4SddasaA8We"
   },
   "source": [
    "### Task 3: Encoder Network\n",
    "\n",
    "Implement the encoder network for given parameters $Q_1$, $Q_2$, and $K$ as given in Topology 1(a).\n",
    "Implement a network class that derives from `torch.nn.Module` and implement the `__init__` and the `forward` methods."
   ]
  },
  {
   "cell_type": "code",
   "metadata": {
    "id": "Y04EYtUUOsB0",
    "ExecuteTime": {
     "end_time": "2024-05-04T08:55:16.924504Z",
     "start_time": "2024-05-04T08:55:16.912721Z"
    }
   },
   "source": [
    "class Encoder (torch.nn.Module):\n",
    "    def __init__(self, Q1, Q2, K):\n",
    "        # call base class constrcutor\n",
    "        super(Encoder,self).__init__()\n",
    "        # convolutional define layers\n",
    "        self.conv1 = torch.nn.Conv2d(1, Q1, kernel_size=5, stride=2, padding=2)\n",
    "        self.conv2 = torch.nn.Conv2d(Q1, Q2, kernel_size=5, stride=2, padding=2)\n",
    "        # activation functions will be re-used for the different stages\n",
    "        self.act = torch.nn.ReLU()\n",
    "        # define fully-connected layers\n",
    "        self.flatten = torch.nn.Flatten()\n",
    "        self.fc = torch.nn.Linear(Q2*7*7, K)\n",
    "\n",
    "    def forward(self, x):\n",
    "        # get the deep feature representation\n",
    "        x = self.act(self.conv1(x))\n",
    "        x = self.act(self.conv2(x))\n",
    "        x = self.flatten(x)\n",
    "        deep_feature = self.fc(x)\n",
    "        return deep_feature"
   ],
   "outputs": [],
   "execution_count": 8
  },
  {
   "cell_type": "markdown",
   "metadata": {
    "id": "zG9vfdv1A-cj"
   },
   "source": [
    "### Task 4: Decoder Network\n",
    "\n",
    "Implement the decoder network for given parameters $Q_1$, $Q_2$, and $K$ as given in Topology 1(b).\n",
    "Implement a network class that derives from `torch.nn.Module` and implement the `__init__` and the `forward` methods.\n",
    "The output of the decoder network is supposed to have values in the range $[0,1]$, similar to the input values.\n",
    "We need to make sure that only these values can be achieved.\n",
    "Think of possible ways of doing that, and apply the way that seems most reasonable."
   ]
  },
  {
   "cell_type": "code",
   "metadata": {
    "id": "sUibY33HOwGx",
    "ExecuteTime": {
     "end_time": "2024-05-04T08:58:17.863761Z",
     "start_time": "2024-05-04T08:58:17.850243Z"
    }
   },
   "source": [
    "class Decoder (torch.nn.Module):\n",
    "    def __init__(self, Q1, Q2, K):\n",
    "        # call base class constrcutor\n",
    "        super(Decoder,self).__init__()\n",
    "        # fully-connected layer\n",
    "        self.fc = torch.nn.Linear(K, Q2*7*7)\n",
    "        # convolutional layers\n",
    "        self.deconv1 = torch.nn.ConvTranspose2d(Q2, Q1, kernel_size=5, stride=2, padding=2, output_padding=1)\n",
    "        self.deconv2 = torch.nn.ConvTranspose2d(Q1, 1, kernel_size=5, stride=2, padding=2, output_padding=1)\n",
    "        # activation function\n",
    "        self.act = torch.nn.ReLU()\n",
    "        self.sigmoid = torch.nn.Sigmoid()\n",
    "        self.Q2 = Q2\n",
    "\n",
    "    def forward(self, x):\n",
    "        # reconstruct the output image\n",
    "        x = self.fc(x)\n",
    "        x = self.act(x)\n",
    "        x = x.view(-1, self.Q2, 7, 7)\n",
    "        x = self.act(self.deconv1(x))\n",
    "        output = self.sigmoid(self.deconv2(x))\n",
    "        return output"
   ],
   "outputs": [],
   "execution_count": 12
  },
  {
   "cell_type": "markdown",
   "metadata": {
    "id": "q1LIBsPnBAXR"
   },
   "source": [
    "### Task 5: Joint Auto-Encoder Network\n",
    "\n",
    "Implement the auto-encoder network by combining the encoder and the decoder.\n",
    "In the `__init__` function, instantiate an encoder from Task 3 and a decoder from Task 4.\n",
    "In `forward`, pass the input through the encoder and the decoder: $\\mathbf Y = \\mathcal D(\\mathcal E(\\mathbf X))$"
   ]
  },
  {
   "cell_type": "code",
   "metadata": {
    "id": "xjaPdugsOzoX",
    "ExecuteTime": {
     "end_time": "2024-05-04T08:53:19.541087Z",
     "start_time": "2024-05-04T08:53:19.527497Z"
    }
   },
   "source": [
    "class AutoEncoder(torch.nn.Module):\n",
    "    def __init__(self, Q1, Q2, K):\n",
    "        super(AutoEncoder,self).__init__()\n",
    "        self.encoder = Encoder(Q1, Q2, K)\n",
    "        self.decoder = Decoder(Q1, Q2, K)\n",
    "\n",
    "    def forward(self,x):\n",
    "        # encode input\n",
    "        deep_feature = self.encoder(x)\n",
    "        # decode to output\n",
    "        reconstructed = self.decoder(deep_feature)\n",
    "        return reconstructed"
   ],
   "outputs": [],
   "execution_count": 6
  },
  {
   "cell_type": "markdown",
   "metadata": {
    "id": "Gc405D2xBDbm"
   },
   "source": [
    "### Test 2: Output Sizes\n",
    "\n",
    "The code below instantiates the auto-encoder network with $Q_1 = Q_2 = 32$ and $K=10$.\n",
    "Then the given input $\\mathbf X$ is provided to the (untrained) auto-encoder network.\n",
    "Use these codes to verify that the deep feature extracted by the encoder and the output from the decoder part both have the desired size. Also, verify that the output values are between 0 and 1.\n",
    "\n",
    "If the tests cannot be passed, please check the implementation in Task 3, 4, and 5."
   ]
  },
  {
   "cell_type": "code",
   "metadata": {
    "id": "jGdY4_xI9ANT",
    "ExecuteTime": {
     "end_time": "2024-05-04T08:58:22.164236Z",
     "start_time": "2024-05-04T08:58:21.995588Z"
    }
   },
   "source": [
    "# run on cuda device?\n",
    "device = torch.device(\"cuda\")\n",
    "\n",
    "# create network\n",
    "network = AutoEncoder(32, 32, 10).to(device)\n",
    "\n",
    "# create or select a sample\n",
    "x = torch.randn((1,1,28,28))\n",
    "\n",
    "# use encoder to encode image and check its size\n",
    "deep_features = network.encoder(x.to(device))\n",
    "assert deep_features.shape[1] == 10\n",
    "\n",
    "# use decoder to generate an image and check its size and value range\n",
    "output = network.decoder(deep_features)\n",
    "assert output.shape[2:] == (28,28)\n",
    "assert torch.all(output >= 0) and torch.all(output <= 1)"
   ],
   "outputs": [],
   "execution_count": 13
  },
  {
   "cell_type": "markdown",
   "metadata": {
    "id": "EyHtPO8tL5vI"
   },
   "source": [
    "\n",
    "## Training and Evaluation\n",
    "We will implement a training procedure for an auto-encoder network.\n",
    "\n",
    "To train the network, we will use the $L_2$ distance between the output and the input of the network as a loss function, which is implemented in `torch.nn.MSELoss`:\n",
    "\n",
    "  $$\\mathcal J^{L_2} (\\mathbf X, \\mathbf Y) = \\|\\mathbf X - \\mathbf Y\\|^2$$\n",
    "\n",
    "For optimization, we will make use of the `Adam` optimizer with a learning rate of $\\eta=0.001$.\n",
    "We will run the training for 10 epochs and compute training and validation set loss after each epoch.\n",
    "\n",
    "For evaluation, we will check whether some of the validation set samples are correctly reconstructed from the auto-encoder network by visualizing them in Task 9.\n",
    "\n",
    "In our defined anomaly detection validation set, there are 10000 regular samples and 2000 anomalous samples.\n",
    "In the case of evaluating the success rate of anomaly detection (Task 7 & 8), accuracy is not the best metric because it gives equal weights to two classes with unequal numbers of samples, while the actual distribution of the two classes is unbalanced.\n",
    "A system can achieve high accuracy by simply predicting the majority class for every instance, while completely ignoring the minority class.\n",
    "\n",
    "In such cases, we choose to use the true positive rate (TPR) and true negative rate (TNR), which measure the proportion of actual positive/negative cases that are correctly identified by the system.\n",
    "\n",
    "$$\\text{TPR} = \\frac{\\text{True Positives}}{\\text{True Positives+False Negatives}} = \\frac{\\text{True Positives}}{\\text{Positives}}$$\n",
    "\n",
    "$$\\text{TNR} = \\frac{\\text{True Negatives}}{\\text{True Negatives+False Positives}} = \\frac{\\text{True Negatives}}{\\text{Negatives}}$$\n"
   ]
  },
  {
   "cell_type": "markdown",
   "metadata": {
    "id": "Ph5oHS3jBL03"
   },
   "source": [
    "### Task 6: Training Loop\n",
    "\n",
    "Instantiate the auto-encoder network with $Q_1 = Q_2 = 32$ and $K=10$.\n",
    "\n",
    "To train the auto-encoder network, we will use the $L_2$ distance between the output and the input of the network as a loss function.\n",
    "This loss function is implemented in `torch.nn.MSELoss`.\n",
    "\n",
    "Since training an auto-encoder is tricky, we will make use of the Adam optimizer.\n",
    "Choose a learning rate of $\\eta=0.001$. Implement the training loop for 10 epochs.\n",
    "\n",
    "Compute the average training loss and validation loss and print them at the end of each epoch. Note: If the training and validation loss does not decrease during training, try to reduce the learning rate (to $\\eta=0.0005$ or even lower) and re-start the training (remember to re-initialize the network, too).\n",
    "\n"
   ]
  },
  {
   "cell_type": "code",
   "metadata": {
    "id": "TxaFzi4sZMaE",
    "ExecuteTime": {
     "end_time": "2024-05-04T09:07:22.429338Z",
     "start_time": "2024-05-04T09:05:18.797987Z"
    }
   },
   "source": [
    "# set device if available\n",
    "device = torch.device(\"cuda\")\n",
    "\n",
    "# create network\n",
    "network = AutoEncoder(32, 32, 10).to(device)\n",
    "\n",
    "# define optimizer\n",
    "optimizer = torch.optim.Adam(network.parameters(), lr=0.001)\n",
    "\n",
    "# define loss function\n",
    "loss = torch.nn.MSELoss()\n",
    "\n",
    "for epoch in range(10):\n",
    "    # evaluate average loss for training and validation set per epoch\n",
    "    train_loss = validation_loss = 0.\n",
    "\n",
    "    for x,_,_ in train_loader:\n",
    "\n",
    "        # compute netwok output\n",
    "\n",
    "        y = network(x.to(device))\n",
    "        # compute loss between output and input\n",
    "        J = loss(y, x.to(device))\n",
    "\n",
    "        # perform update\n",
    "        optimizer.zero_grad()\n",
    "        J.backward()\n",
    "        optimizer.step()\n",
    "\n",
    "        # accumulate loss\n",
    "        train_loss += J.item() * x.size(0)\n",
    "\n",
    "\n",
    "    # compute validation loss\n",
    "    with torch.no_grad():\n",
    "        for x,t,_ in val_loader:\n",
    "            # compute network output\n",
    "            y = network(x.to(device))\n",
    "            # compute loss\n",
    "            J = loss(y, x.to(device))\n",
    "            # accumulate loss\n",
    "            validation_loss += J.item() * x.size(0)\n",
    "\n",
    "\n",
    "    # print average loss for training and validation\n",
    "    print(f\"\\rEpoch {epoch+1}; train: {train_loss/len(train_dataset):1.5f}, val: {validation_loss/len(val_dataset):1.5f}\")"
   ],
   "outputs": [
    {
     "name": "stdout",
     "output_type": "stream",
     "text": [
      "Epoch 1; train: 0.11237, val: 0.11396\n",
      "Epoch 2; train: 0.11200, val: 0.11396\n",
      "Epoch 3; train: 0.11200, val: 0.11396\n",
      "Epoch 4; train: 0.11200, val: 0.11396\n",
      "Epoch 5; train: 0.11200, val: 0.11396\n",
      "Epoch 6; train: 0.11200, val: 0.11396\n",
      "Epoch 7; train: 0.11200, val: 0.11396\n",
      "Epoch 8; train: 0.11200, val: 0.11396\n",
      "Epoch 9; train: 0.08868, val: 0.02139\n",
      "Epoch 10; train: 0.01878, val: 0.01683\n"
     ]
    }
   ],
   "execution_count": 14
  },
  {
   "cell_type": "markdown",
   "metadata": {
    "id": "AXFrw0vjNYjs"
   },
   "source": [
    "### Task 7: True Positive/Negative Rate Calculation\n",
    "\n",
    "Define a function that takes the predictions and binary ground-truth values (the data type from Task 1) as lists, and returns TPR and TNR.\n",
    "\n",
    "You can use `sklearn.metrics.confusion_matrix` (https://scikit-learn.org/stable/modules/generated/sklearn.metrics.confusion_matrix.html) to compute true positives, true negatives, false positives, and false negatives, or compute them by their definitions."
   ]
  },
  {
   "cell_type": "code",
   "metadata": {
    "id": "LfKZRU5-N-K5",
    "ExecuteTime": {
     "end_time": "2024-05-04T09:09:28.504553Z",
     "start_time": "2024-05-04T09:09:25.681619Z"
    }
   },
   "source": [
    "from sklearn.metrics import confusion_matrix\n",
    "def compute_tpr_tnr(predictions, truth):\n",
    "    # convert list into numpy arrary\n",
    "    predictions = np.array(predictions)\n",
    "    truth = np.array(truth)\n",
    "    # Compute the confusion matrix or tp, tn, fp, fn\n",
    "    tn, fp, fn, tp = confusion_matrix(truth, predictions).ravel()\n",
    "    # Compute TPR and TNR\n",
    "    tpr = tp / (tp + fn)\n",
    "    tnr = tn / (tn + fp)\n",
    "    \n",
    "\n",
    "    return tpr, tnr"
   ],
   "outputs": [],
   "execution_count": 15
  },
  {
   "cell_type": "markdown",
   "metadata": {
    "id": "oYQTLLvjOCJF"
   },
   "source": [
    "### Test 3: TPR & TNR Calculation Check\n",
    "\n",
    "With the given truth values and predictions, call the function defined in Task 7 and check the returned TPR and TNR are correct."
   ]
  },
  {
   "cell_type": "code",
   "metadata": {
    "id": "N_JYYlV6IMkt",
    "ExecuteTime": {
     "end_time": "2024-05-04T09:09:31.239362Z",
     "start_time": "2024-05-04T09:09:31.213467Z"
    }
   },
   "source": [
    "truth = [1, 1, 1, 1, 1, 1, -1, 1, 1, -1, -1, 1, 1, -1, 1, -1, 1, 1, 1, 1]\n",
    "predictions = [1, -1, 1, 1, 1, 1, -1, 1, 1, -1, 1, 1, 1, -1, 1, -1, 1, 1, 1, 1]\n",
    "\n",
    "tpr, tnr = compute_tpr_tnr(predictions, truth)\n",
    "\n",
    "assert(abs(tpr - 14/15) < 1e-8)\n",
    "assert(abs(tnr - 0.8) < 1e-8)\n"
   ],
   "outputs": [],
   "execution_count": 16
  },
  {
   "cell_type": "markdown",
   "metadata": {
    "id": "XJBd6La0DllW"
   },
   "source": [
    "### Task 8: Anomaly Evaluation\n",
    "\n",
    "In this task, forward the data from the anomaly detection loader into the trained network, compute sample-wise loss (https://pytorch.org/docs/stable/generated/torch.nn.MSELoss.html), and assign -1 to samples with loss > 0.04, and 1 to samples with loss < 0.04.\n",
    "\n",
    "Forward the re-assigned loss as predictions into the function defined in Task 7 to compute TPR and TNR. Compute the regular accuracy as well to make a comparison."
   ]
  },
  {
   "cell_type": "code",
   "metadata": {
    "id": "VhJjWfUG_zPs",
    "ExecuteTime": {
     "end_time": "2024-05-04T09:22:00.426353Z",
     "start_time": "2024-05-04T09:21:59.047575Z"
    }
   },
   "source": [
    "# instantiate loss function with appropriate reduction\n",
    "loss = torch.nn.MSELoss(reduction='none')\n",
    "\n",
    "correct = 0.\n",
    "predictions = []\n",
    "truth_values = []\n",
    "\n",
    "# compute tpr and tnr for the anomaly detection dataset\n",
    "with torch.no_grad():\n",
    "    for x, t, l in anomaly_detection_loader:\n",
    "        # forward input to the trained network\n",
    "        y = network(x.to(device))\n",
    "\n",
    "        # compute loss per input\n",
    "        J = loss(y, x.to(device)).mean(dim=[1,2,3])\n",
    "\n",
    "\n",
    "        # select the indexes at which loss is great then threshold 0.04 and replace its value by -1, and others by 1.\n",
    "        prediction = (J <= 0.04).float() * 2 - 1\n",
    "\n",
    "        # convert the prediction and l into list and add to list predictions and list truth_values\n",
    "        predictions += prediction.tolist()\n",
    "        truth_values += l.tolist()\n",
    "\n",
    "        # compute accuracy\n",
    "        correct += (prediction.to(device) == l.to(device)).sum().item()\n",
    "\n",
    "# print the accuracy\n",
    "acc = correct / len(anomaly_detection_dataset)\n",
    "\n",
    "# compute tpr and tnr with function defined in Task 7 and print tpr and tnr\n",
    "tpr, tnr = compute_tpr_tnr(predictions, truth_values)\n",
    "\n",
    "print(\"True Positive Rate:\", tpr)\n",
    "print(\"True Negative Rate:\", tnr)\n",
    "print(\"Accuracy:\", acc)"
   ],
   "outputs": [
    {
     "name": "stdout",
     "output_type": "stream",
     "text": [
      "True Positive Rate: 0.9729\n",
      "True Negative Rate: 0.9145\n",
      "Accuracy: 0.9631666666666666\n"
     ]
    }
   ],
   "execution_count": 18
  },
  {
   "cell_type": "markdown",
   "metadata": {
    "id": "jO5VTYaaBRx2"
   },
   "source": [
    "### Task 9: Reconstruction Result\n",
    "\n",
    "This task is to visualize the reconstructed images from their originals.\n",
    "For this purpose, load the first batch of the anomaly detection set. \n",
    "For both MNIST and FashionMNIST data, select one image for each label.\n",
    "\n",
    "Forward the images through the trained auto-encoder network to extract their reconstructions.\n",
    "\n",
    "Make a single plot with 4 rows and 10 columns. \n",
    "In the 1st/3rd row, plot the original MNIST/FashionMNIST samples, 2nd/4th row plot the corresponding reconstructed samples. \n",
    "See the reference plot in the slides."
   ]
  },
  {
   "cell_type": "code",
   "metadata": {
    "id": "aJANkSFe-DsC",
    "ExecuteTime": {
     "end_time": "2024-05-04T09:29:57.339463Z",
     "start_time": "2024-05-04T09:29:56.593330Z"
    }
   },
   "source": [
    "# get the first anomaly detection set batch\n",
    "x, t, l = next(iter(anomaly_detection_loader))\n",
    "\n",
    "# select one image for each label\n",
    "select_images_mnist = []\n",
    "select_images_fashionmnist = []\n",
    "\n",
    "for i in range(10):\n",
    "    idx_mnist = ((t == i) & (l == 1)).nonzero(as_tuple=True)[0][0]\n",
    "    idx_fashionmnist = ((t == i) & (l == -1)).nonzero(as_tuple=True)[0][0]\n",
    "    select_images_mnist.append(x[idx_mnist])\n",
    "    select_images_fashionmnist.append(x[idx_fashionmnist])\n",
    "\n",
    "# If required, convert the list of select images into a tensor through torch.stack\n",
    "original_mnist = torch.stack(select_images_mnist)\n",
    "original_fashionmnist = torch.stack(select_images_fashionmnist)\n",
    "\n",
    "# Generate reconstructed samples\n",
    "with torch.no_grad():\n",
    "    generated_mnist = network(original_mnist.to(device)).cpu()\n",
    "    generated_fashionmnist = network(original_fashionmnist.to(device)).cpu()\n",
    "\n",
    "samples = [original_mnist, generated_mnist, original_fashionmnist, generated_fashionmnist]\n",
    "\n",
    "# plot images\n",
    "pyplot.rcParams['image.cmap'] = 'gray'\n",
    "\n",
    "fig, axes = pyplot.subplots(nrows=4 , ncols=10, figsize=(15, 6))\n",
    "\n",
    "for i in range(4):\n",
    "    for j in range(10):\n",
    "        axes[i][j].imshow(samples[i][j].squeeze(),cmap='gray')\n",
    "        axes[i][j].axis(\"off\")"
   ],
   "outputs": [
    {
     "data": {
      "text/plain": [
       "<Figure size 1500x600 with 40 Axes>"
      ],
      "image/png": "[encoded data removed]"
     },
     "metadata": {},
     "output_type": "display_data"
    }
   ],
   "execution_count": 20
  },
  {
   "metadata": {},
   "cell_type": "code",
   "outputs": [],
   "execution_count": null,
   "source": ""
  }
 ],
 "metadata": {
  "accelerator": "GPU",
  "colab": {
   "gpuType": "T4",
   "provenance": []
  },
  "kernelspec": {
   "display_name": "Python 3 (ipykernel)",
   "name": "python3",
   "language": "python"
  },
  "language_info": {
   "name": "python"
  }
 },
 "nbformat": 4,
 "nbformat_minor": 0
}
