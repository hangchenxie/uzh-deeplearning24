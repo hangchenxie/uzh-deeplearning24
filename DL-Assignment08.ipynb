{
 "cells": [
  {
   "cell_type": "markdown",
   "metadata": {
    "id": "yjS_p66DM6_O"
   },
   "source": [
    "### Group Members:\n",
    "\n",
    "- Hangchen Xie, 22-736-789\n",
    "- Yanyang Gong, 23-744-063\n",
    "- Yaojie Wang, 23-741-283"
   ]
  },
  {
   "cell_type": "markdown",
   "metadata": {
    "id": "fsSWtTLDm0Lx"
   },
   "source": [
    "# Assignment 8: Open-Set Classification\n",
    "\n",
    "In this assignment, we develop a network that is capable of correctly classifying known classes while at the same time rejecting unknown samples that occur during inference time.\n",
    "To showcase the capability, we make use of the MNIST dataset that we artificially split into known and unknown classes; this allows us to train a network on the data without requiring too expensive hardware.\n",
    "\n",
    "\n",
    "We select the MNIST dataset and define several classes to be known, negative class during training, and unknown (not used for training at all).\n",
    "\n",
    "## Dataset\n",
    "We split the MNIST dataset into 4 known classes, 4 negative classes (used for training) and 2 unknown classes (used only for testing).\n",
    "While several splits might be possible, here we restrict to the following:\n",
    "* Known class indexes: (1, 4, 5, 8)\n",
    "* negative class indexes: (0, 2, 3, 7)\n",
    "* Unknown class indexes: (6,9)\n",
    "\n",
    "Please note that, in PyTorch, class indexing starts at 0 (other than in the lecture where class indexing starts at 1).\n",
    "\n",
    "We rely on the `torchvision.datasets.MNIST` implementation of the `MNIST` dataset, which we adapt to our needs.\n",
    "The constructor of our Dataset class takes one parameter that defines the purpose of this dataset (`\"train\", \"validation\", \"test\"`).\n",
    "The `\"train\"` partition uses the training samples of the *known* and the *negative* classes.\n",
    "The `\"validation\"` partition uses the test samples of the *known* and the *negative* classes.\n",
    "Finally, the `\"test\"` partition uses the test samples of the *known* and the *unknown* classes.\n",
    "\n",
    "In our implementation of the Dataset class, we need to implement two functions.\n",
    "* First, the constructor `__init__(self, purpose)` selects the data based on our purpose.\n",
    "* Second, the index function `__getitem__(self, n)` returns a pair $(X^n, \\vec t^n)$ for the sample with the index $n$, where $X \\in \\mathbb R^{1\\times28\\times28}$ with values in range $[0,1]$ and $\\vec t \\in \\mathbb R^{O}$, see below.\n",
    "\n",
    "Since our loss function (cf. Task 5) requires our target vectors to be in vector format, we need to convert the target index $t^n$ into its vector representation $\\vec t^n$.\n",
    "Particularly, we need to provide the following target vectors:\n",
    "\n",
    "<center>\n",
    "\n",
    " $\\vec t^n = 1 : \\vec t^n = (1,0,0,0)$\n",
    "\n",
    " $\\vec t^n = 4 : \\vec t^n = (0,1,0,0)$\n",
    "\n",
    " $\\vec t^n = 5 : \\vec t^n = (0,0,1,0)$\n",
    "\n",
    " $\\vec t^n = 8 : \\vec t^n = (0,0,0,1)$\n",
    "\n",
    " else: $\\vec t^n = (\\frac14,\\frac14,\\frac14,\\frac14)$\n",
    "\n",
    "</center>\n",
    "\n",
    "\n",
    "### Task 1: Target Vectors\n",
    "\n",
    "Implement a function that generates a target vector for any of the ten different classes according to above description. The return value should be a `torch.tensor` of type float."
   ]
  },
  {
   "cell_type": "code",
   "metadata": {
    "id": "pKlkqz_ym0L2",
    "ExecuteTime": {
     "end_time": "2024-05-08T08:49:36.028397Z",
     "start_time": "2024-05-08T08:49:26.752530Z"
    }
   },
   "source": [
    "import torch\n",
    "import torchvision\n",
    "\n",
    "# define the three types of classes\n",
    "known_classes = (1, 4, 5, 8)\n",
    "negative_classes = (0, 2, 3, 7)\n",
    "unknown_classes = (6, 9)\n",
    "O = len(known_classes)\n",
    "\n",
    "# define one-hot vectors\n",
    "labels_known = torch.eye(O)\n",
    "label_unknown = torch.ones(1, O) / O\n",
    "\n",
    "def target_vector(index):\n",
    "  # select correct one-hot vector for known classes, and the 1/O-vectors for unknown classes\n",
    "    if index in known_classes:\n",
    "        return labels_known[known_classes.index(index)]\n",
    "    else:\n",
    "        return label_unknown[0]"
   ],
   "outputs": [],
   "execution_count": 1
  },
  {
   "cell_type": "markdown",
   "metadata": {
    "id": "WFSme-RNm0L4"
   },
   "source": [
    "### Test 1: Check your Target Vectors\n",
    "\n",
    "Test that your target vectors are correct, for all tpyes of known and unknown samples.\n"
   ]
  },
  {
   "cell_type": "code",
   "metadata": {
    "id": "cn9oEs61m0L4",
    "ExecuteTime": {
     "end_time": "2024-05-08T08:49:36.059328Z",
     "start_time": "2024-05-08T08:49:36.030439Z"
    }
   },
   "source": [
    "# check that the target vectors for known classes are correct\n",
    "for index in known_classes:\n",
    "  t = target_vector(index)\n",
    "  print(index, t)\n",
    "  assert max(t) == 1\n",
    "  assert sum(t) == 1\n",
    "\n",
    "# check that the target vectors for unknown classes are correct\n",
    "for index in negative_classes + unknown_classes:\n",
    "  t = target_vector(index)\n",
    "  print(index, t)\n",
    "  assert max(t) == 0.25\n",
    "  assert sum(t) == 1\n"
   ],
   "outputs": [
    {
     "name": "stdout",
     "output_type": "stream",
     "text": [
      "1 tensor([1., 0., 0., 0.])\n",
      "4 tensor([0., 1., 0., 0.])\n",
      "5 tensor([0., 0., 1., 0.])\n",
      "8 tensor([0., 0., 0., 1.])\n",
      "0 tensor([0.2500, 0.2500, 0.2500, 0.2500])\n",
      "2 tensor([0.2500, 0.2500, 0.2500, 0.2500])\n",
      "3 tensor([0.2500, 0.2500, 0.2500, 0.2500])\n",
      "7 tensor([0.2500, 0.2500, 0.2500, 0.2500])\n",
      "6 tensor([0.2500, 0.2500, 0.2500, 0.2500])\n",
      "9 tensor([0.2500, 0.2500, 0.2500, 0.2500])\n"
     ]
    }
   ],
   "execution_count": 2
  },
  {
   "cell_type": "markdown",
   "metadata": {
    "id": "jPmC7414m0L5"
   },
   "source": [
    "### Tasks 2 and 3: Dataset Construction and Dataset Item Selection\n",
    "\n",
    "Write a dataset class that derives from `torchvision.datasets.MNIST` in `PyTorch` and adapts some parts of it.\n",
    "In the constructor, make sure that you let `PyTorch` load the dataset by calling the base class constructor `super` with the desired parameters. Afterward, the `self.data` and `self.targets` are populated with all samples and target indexes.\n",
    "From these, we need to sub-select the samples that fit our current `purpose` and store them back to `self.data` and `self.targets`.\n",
    "\n",
    "Second, we need to implement the index function of our dataset, where we need to return both the image and the target vector.\n",
    "The images in `self.data` were originally stored as `uint8` values in the dimension $\\mathbb N^{N\\times28\\times28}$ with values in $[0, 255]$.\n",
    "The targets in `self.targets` were originally stored as class indexes in the dimension $\\mathbb N^N$. Make sure that you return both in the desired format.\n",
    "\n",
    "Notes:\n",
    "\n",
    "* Since Jupyter Notebook does not allow splitting classes over several code boxes, the two tasks are required to be solved in the same code box.\n",
    "* **The definition below is just one possibility.** There are many ways to implement this dataset interface.\n",
    "* With a clever implementation of the constructor, there is no need to overwrite the `__getitem__(self,index)` function.\n",
    "* Depending on your implementation, you might also need to overwrite the `__len__(self)` function."
   ]
  },
  {
   "cell_type": "code",
   "metadata": {
    "id": "xLuxLw67l4Lu",
    "ExecuteTime": {
     "end_time": "2024-05-08T08:49:36.074153Z",
     "start_time": "2024-05-08T08:49:36.062965Z"
    }
   },
   "source": [
    "class DataSet(torchvision.datasets.MNIST):\n",
    "  def __init__(self, purpose=\"train\"):\n",
    "    # call base class constructor to handle the data loading\n",
    "    # make sure that you get the correct part of the data based on the purpose\n",
    "\n",
    "    super(DataSet, self).__init__(\n",
    "        root='./data',\n",
    "        train=True if purpose == \"train\" else False,\n",
    "        download=True,\n",
    "        transform=torchvision.transforms.ToTensor()\n",
    "      )\n",
    "\n",
    "    # select the valid classes based on the current purpose\n",
    "    if purpose == \"train\" or purpose == \"validation\":\n",
    "      valid_classes = known_classes + negative_classes\n",
    "    else:\n",
    "      valid_classes = known_classes + unknown_classes\n",
    "    # select the samples that belong to these classes\n",
    "    indexes = [i for i in range(len(self.targets)) if self.targets[i] in valid_classes]\n",
    "    self.data = self.data[indexes]\n",
    "    # sub-select the data of valid classes\n",
    "    self.targets = self.targets[indexes]\n",
    "    # select the targets of valid classes, and already turn them into target vectors\n",
    "    self.targets = torch.stack([target_vector(t) for t in self.targets])\n",
    "\n",
    "  def __getitem__(self, index):\n",
    "    # perform appropriate actions on the data and the targets\n",
    "    # the format of data should be in [0, 1]\n",
    "\n",
    "    input = (self.data[index].float() / 255).unsqueeze(0)\n",
    "\n",
    "    target = self.targets[index]\n",
    "    return input, target"
   ],
   "outputs": [],
   "execution_count": 3
  },
  {
   "cell_type": "markdown",
   "metadata": {
    "id": "NvmK-kmdm0L6"
   },
   "source": [
    "### Test 2: Data Sets\n",
    "\n",
    "\n",
    "Instantiate the training dataset.\n",
    "Implement a data loader for the training dataset with a batch size of 64.\n",
    "Assure that all inputs are of the desired type and shape.\n",
    "Assert that the target values are in the correct format, and the sum of the target values per sample is one.\n"
   ]
  },
  {
   "cell_type": "code",
   "metadata": {
    "id": "fgFrIjoom0L6",
    "ExecuteTime": {
     "end_time": "2024-05-08T08:49:39.118480Z",
     "start_time": "2024-05-08T08:49:36.076819Z"
    }
   },
   "source": [
    "# instantiate the training dataset\n",
    "\n",
    "train_set = DataSet(purpose=\"train\")\n",
    "train_loader = torch.utils.data.DataLoader(train_set, 64, shuffle=True)\n",
    "\n",
    "# assert that we have not filtered out all samples\n",
    "assert len(train_set)!= 60000 and len(train_set)== 48133\n",
    "\n",
    "# check the batch and assert valid data and sizes\n",
    "for x,t in train_loader:\n",
    "  assert len(x) <= 64\n",
    "  assert len(t) == len(x)\n",
    "  assert torch.all(torch.sum(t, axis = 1) == 1)\n",
    "  assert x.shape == torch.Size([x.shape[0], 1, 28, 28])\n",
    "  assert x.dtype == torch.float32\n",
    "  assert torch.max(x) <= 1\n",
    "  assert torch.min(x) >= 0"
   ],
   "outputs": [],
   "execution_count": 4
  },
  {
   "cell_type": "markdown",
   "metadata": {
    "id": "z-7VFbW1IfVl"
   },
   "source": [
    "### Task 4: Data Loader\n",
    "\n",
    "Call the dataset class sperately with batch size of $B=256$, and instantiate data loaders for the three datasets.\n"
   ]
  },
  {
   "cell_type": "code",
   "metadata": {
    "id": "svg_iiEyIfms",
    "ExecuteTime": {
     "end_time": "2024-05-08T08:49:41.768026Z",
     "start_time": "2024-05-08T08:49:39.122358Z"
    }
   },
   "source": [
    "batch_size = 256\n",
    "\n",
    "device = torch.device(\"cuda:0\" if torch.cuda.is_available() else \"cpu\")\n",
    "\n",
    "# instantiate training dataset and data loader\n",
    "train_set = DataSet(purpose=\"train\")\n",
    "train_loader = torch.utils.data.DataLoader(train_set, batch_size, shuffle=True)\n",
    "\n",
    "# instantiate validation set and data loader\n",
    "validation_set = DataSet(purpose=\"validation\")\n",
    "validation_loader = torch.utils.data.DataLoader(validation_set, batch_size, shuffle=False)\n",
    "\n",
    "# instantiate test set and according data loader\n",
    "test_set = DataSet(purpose=\"test\")\n",
    "test_loader = torch.utils.data.DataLoader(test_set, batch_size, shuffle=False)\n"
   ],
   "outputs": [],
   "execution_count": 5
  },
  {
   "cell_type": "markdown",
   "metadata": {
    "id": "W67k2w9Mm0L7"
   },
   "source": [
    "### Task 5: Utility Function\n",
    "\n",
    "Implement a function that splits a batch of samples into known and unknown parts. For the known parts, also provide the target vectors.\n",
    "How can we know which of the data samples are known samples, and which are unknown?\n",
    "\n",
    "This function needs to return three elements:\n",
    "* First, the samples from the batch that belong to known classes.\n",
    "* Second, the target vectors that belong to the known classes.\n",
    "* Finally, the samples from the batch that belong to unknown classes.\n"
   ]
  },
  {
   "cell_type": "code",
   "metadata": {
    "id": "PSDfc-2Tm0L7",
    "ExecuteTime": {
     "end_time": "2024-05-08T08:49:41.799094Z",
     "start_time": "2024-05-08T08:49:41.773015Z"
    }
   },
   "source": [
    "def split_known_unknown(batch, targets):\n",
    "  # select the indexes at which known and unknown samples exist\n",
    "  known = torch.any(targets == 1, dim=1)\n",
    "  unknown = ~known\n",
    "  # return the known samples, the targets of the known samples, as well as the unknown samples\n",
    "  return batch[known], targets[known], batch[unknown]"
   ],
   "outputs": [],
   "execution_count": 6
  },
  {
   "cell_type": "markdown",
   "metadata": {
    "id": "kVq2US6am0L8"
   },
   "source": [
    "## Loss Function and Confidence\n",
    "\n",
    "We write our own PyTorch implementation of our loss function.\n",
    "Particularly, we implement a manual way to define the derivative of our loss function via `torch.autograd.Function`, which allows us to define the forward and backward pass on our own.\n",
    "For this purpose, we need to implement two `static` functions in our loss.\n",
    "The function `forward(ctx, logits, targets)` is required to compute the loss value and allows us to store some variables in the context of the backward pass.\n",
    "The `backward(ctx, result)` provides us with the result of the forward function (the loss value) as well as the context with our stored variables.\n",
    "Here, we need to compute the derivative of the loss with respect to both of the inputs to the forward function (which might look a bit confusing), i.e.,$\\frac{\\partial \\mathbf{J}^{CCE}}{\\partial \\mathbf{Z}}$ and $\\frac{\\partial \\mathbf{J}^{CCE}}{\\partial \\mathbf{T}}$.\n",
    "Since the latter is not required, we can also simply return `None` for the second derivative.\n",
    "\n",
    "<font color=#FF000>Hint: if you think the implementation of loss function is too hard, you can also cross-entropy as your loss function (**since PyTorch version 1.11**).</font>"
   ]
  },
  {
   "cell_type": "markdown",
   "metadata": {
    "id": "5oV8dE2u5B-i"
   },
   "source": [
    "### Task 6: Loss Function Implementation\n",
    "\n",
    "Implement a `torch.autograd.Function` class for the adapted SoftMax function according to the equations provided in the lecture.\n",
    "You might want to compute the log of the network output $\\ln y_o$ from the logits $z_o$ via `torch.nn.functional.log_softmax`.\n",
    "Store all the data required for the backward pass in the context during `forward`, and extract these from the context during `backward`."
   ]
  },
  {
   "cell_type": "code",
   "metadata": {
    "id": "czmU2Aqqm0L8",
    "ExecuteTime": {
     "end_time": "2024-05-08T08:49:41.814593Z",
     "start_time": "2024-05-08T08:49:41.802056Z"
    }
   },
   "source": [
    "class AdaptedSoftMax(torch.autograd.Function):\n",
    "\n",
    "  # implement the forward propagation\n",
    "  @staticmethod\n",
    "  def forward(ctx, logits, targets):\n",
    "    # compute the log probabilities via log_softmax\n",
    "    log_probs = torch.nn.functional.log_softmax(logits, dim=1)\n",
    "    # save required values for backward pass\n",
    "    ctx.save_for_backward(logits, targets)\n",
    "    # compute loss\n",
    "    loss = -torch.sum(log_probs * targets, dim=1).mean()\n",
    "    return loss\n",
    "\n",
    "  # implement Jacobian\n",
    "  @staticmethod\n",
    "  def backward(ctx, result):\n",
    "    # get results stored from forward pass\n",
    "    logits, targets = ctx.saved_tensors\n",
    "    # compute derivative of loss w.r.t. the logits\n",
    "    y = torch.nn.functional.softmax(logits, dim=1)\n",
    "    dJ_dz = result * (y - targets)\n",
    "    # return the derivatives; none for derivative for the targets\n",
    "    return dJ_dz, None\n",
    "\n",
    "# DO NOT REMOVE!\n",
    "# here we set the adapted softmax function to be used later\n",
    "adapted_softmax = AdaptedSoftMax.apply"
   ],
   "outputs": [],
   "execution_count": 7
  },
  {
   "cell_type": "markdown",
   "metadata": {
    "id": "Eopp5YC6m0L9"
   },
   "source": [
    "### Task 6a: Alternative Loss Function\n",
    "\n",
    "In case the loss function is too difficult to implement, you can also choose to rely on PyTorch's automatic gradient computation and simply define your loss function without the backward pass.\n",
    "\n",
    "In this case, we only need to define the forward pass. A simple function `adapted_softmax(logits, targets)` is sufficient.\n",
    "\n",
    "You can implement any variant of the categorical cross-entropy loss function on top of SoftMax activations as defined in the lecture.\n"
   ]
  },
  {
   "cell_type": "code",
   "metadata": {
    "id": "fFhw66Pxm0L9",
    "ExecuteTime": {
     "end_time": "2024-05-08T08:49:41.829794Z",
     "start_time": "2024-05-08T08:49:41.817098Z"
    }
   },
   "source": [
    "def adapted_softmax_alt(logits, targets):\n",
    "  # compute cross-entropy loss on top of softmax values of the logits\n",
    "  return torch.nn.functional.cross_entropy(logits, torch.argmax(targets, dim=1))\n"
   ],
   "outputs": [],
   "execution_count": 8
  },
  {
   "cell_type": "markdown",
   "metadata": {
    "id": "bDwhq72Vm0L9"
   },
   "source": [
    "### Task 7: Confidence Evaluation\n",
    "\n",
    "Implement a function to compute the confidence value for a given batch of samples. \n",
    "Compute Softmax confidence and split these confidences between known and unknown classes. \n",
    "For samples from known classes, sum up the SoftMax confidences of the correct class. \n",
    "For unknown samples, sum 1 minus the maximum confidence for any of the known classes; also apply the $\\frac1O$ correction for the minimum possible SoftMax confidence."
   ]
  },
  {
   "metadata": {
    "ExecuteTime": {
     "end_time": "2024-05-08T08:49:41.845254Z",
     "start_time": "2024-05-08T08:49:41.833410Z"
    }
   },
   "cell_type": "code",
   "source": [
    "def confidence(logits, targets):\n",
    " \n",
    "  # compute softmax confidences\n",
    "  conf = torch.nn.functional.softmax(logits, dim=1)\n",
    "\n",
    "  # split between known and unknown\n",
    "  known, targets_know, unknown = split_known_unknown(conf, targets)\n",
    "  # compute confidence score for known targets\n",
    "  conf_known = torch.sum(known * targets_know)\n",
    "  # compute confidence score for unknown targets\n",
    "  conf_unknown = torch.sum(1 - torch.max(unknown, dim=1)[0] + 1/O)\n",
    "\n",
    "  return conf_known + conf_unknown"
   ],
   "outputs": [],
   "execution_count": 9
  },
  {
   "cell_type": "markdown",
   "metadata": {
    "id": "e543YdEvm0L-"
   },
   "source": [
    "### Test 3: Check Confidence Implementation\n",
    "\n",
    "Test that your confidence implementation does what it is supposed to do.\n",
    "\n",
    "Note that confidence values should always be between 0 and 1, other values indicate an issue in the implementation."
   ]
  },
  {
   "cell_type": "code",
   "metadata": {
    "id": "TXAruuB0m0L-",
    "ExecuteTime": {
     "end_time": "2024-05-08T08:49:41.892093Z",
     "start_time": "2024-05-08T08:49:41.849277Z"
    }
   },
   "source": [
    "# select good logit vectors for known and unknown classes\n",
    "logits = torch.tensor([[10., 0., 0., 0.], [-10., 0, -10., -10.], [0.,0.,0.,0.]])\n",
    "# select the according target vectors for these classes\n",
    "targets = torch.stack([target_vector(known_classes[0]), target_vector(known_classes[1]), target_vector(negative_classes[0])])\n",
    "\n",
    "# the confidence should be close to 1 for all cases\n",
    "# calculate confidence\n",
    "assert 3 - confidence(logits, targets) < 1e-3"
   ],
   "outputs": [],
   "execution_count": 10
  },
  {
   "cell_type": "markdown",
   "metadata": {
    "id": "mWFgh2Nwm0L-"
   },
   "source": [
    "## Network and Training\n",
    "\n",
    "We make use of the same convolutional network as utilized in Assignment 6, to which we append a final fully-connected layer with $K$ inputs and $O$ outputs.\n",
    "Additionally, we replace the $\\sigma$ activation function with the better-performing **PReLU** function.\n",
    "\n",
    "The topology can be found in the following:\n",
    "1. 2D convolutional layer with $Q_1$ channels, kernel size $7\\times7$, stride 1 and padding 0\n",
    "2. 2D maximum pooling layer with kernel size $2\\times2$ and stride 2\n",
    "3. activation function **PReLU**\n",
    "4. 2D convolutional layer with $Q_2$ channels, kernel size $5\\times5$, stride 1 and padding 2\n",
    "5. 2D maximum pooling layer with kernel size $2\\times2$ and stride 2\n",
    "6. activation function **PReLU**\n",
    "7. flatten layer to convert the convolution output into a vector\n",
    "8. fully-connected layer with the correct number of inputs and $K$ outputs\n",
    "9. fully-connected layer with $K$ inputs and $O$ outputs\n",
    "\n",
    "\n",
    "\n",
    "However, instead of relying on the `torch.nn.Sequential` class, we need to define our own network class, which we need to derive from `torch.nn.Module` -- since our network has two outputs.\n",
    "We basically need to implement two methods in our network.\n",
    "The constructor `__init__(self, Q1, Q2, K)` needs to call the base class constructor and initialize all required layers of our network.\n",
    "The `forward(self, x)` function then passes the input through all of our layers and returns both the deep features (extracted at the first fully-connected layer) and the logits (extracted from the second fully-connected layer)."
   ]
  },
  {
   "cell_type": "markdown",
   "metadata": {
    "id": "zAo2Qx9q5bk8"
   },
   "source": [
    "\n",
    "### Task 8: Network Definition\n",
    "\n",
    "We define our own small-scale network to classify known and unknown samples for MNIST.\n",
    "\n",
    "However, this time we need to implement our own network model since we need to modify our network output.\n",
    "\n",
    "Implement a network class, including the layers as provided above.\n",
    "Implement both the constructor and the forward function.\n",
    "Instantiate the network with $Q_1=32, Q_2=32, K=20, O=4$.\n"
   ]
  },
  {
   "cell_type": "code",
   "metadata": {
    "id": "LYyPEmsWm0L-",
    "ExecuteTime": {
     "end_time": "2024-05-08T08:49:41.907181Z",
     "start_time": "2024-05-08T08:49:41.894090Z"
    }
   },
   "source": [
    "class Network (torch.nn.Module):\n",
    "  def __init__(self, Q1, Q2, K, O):\n",
    "    # call base class constrcutor\n",
    "    super(Network,self).__init__()\n",
    "    # define convolutional layers\n",
    "    self.conv1 = torch.nn.Conv2d(1, Q1, 7, stride=1, padding=0)\n",
    "    self.conv2 = torch.nn.Conv2d(Q1, Q2, 5, stride=1, padding=2)\n",
    "    # pooling and activation functions will be re-used for the different stages\n",
    "    self.pool = torch.nn.MaxPool2d(2, stride=2)\n",
    "    self.act = torch.nn.PReLU()\n",
    "    # define fully-connected layers\n",
    "    self.flatten = torch.nn.Flatten()\n",
    "    self.fc1 = torch.nn.Linear(Q2*5*5, K)\n",
    "    self.fc2 = torch.nn.Linear(K, O)\n",
    "\n",
    "  def forward(self,x):\n",
    "    # compute first layer of convolution, pooling and activation\n",
    "    a = self.act(self.pool(self.conv1(x)))\n",
    "    # compute second layer of convolution, pooling and activation\n",
    "    a = self.act(self.pool(self.conv2(a)))\n",
    "    # get the deep features as the output of the first fully-connected layer\n",
    "    deep_features = self.fc1(self.flatten(a))\n",
    "    # get the logits as the output of the second fully-connected layer\n",
    "    logits = self.fc2(deep_features)\n",
    "    # return both the logits and the deep features\n",
    "    return logits, deep_features"
   ],
   "outputs": [],
   "execution_count": 11
  },
  {
   "cell_type": "markdown",
   "metadata": {
    "id": "1rxnrxtRm0L-"
   },
   "source": [
    "### Task 9: Training Loop\n",
    "\n",
    "Implement a function for training network, which contains the training and validation loop. \n",
    "Compute the training set confidence during the epoch.\n",
    "At the end of each epoch, also compute the validation set confidence measure.\n",
    "Print both the training set and validation set confidence scores to the console. \n",
    "Finally, return the trained network."
   ]
  },
  {
   "cell_type": "code",
   "metadata": {
    "id": "wnLIrcTzm0L_",
    "ExecuteTime": {
     "end_time": "2024-05-08T08:49:41.937775Z",
     "start_time": "2024-05-08T08:49:41.916435Z"
    }
   },
   "source": [
    "def train(network,epochs, eta, momentum, loss_function):\n",
    "\n",
    "  # Set GPU\n",
    "  network = network.to(device)\n",
    "\n",
    "  # SGD optimizer with appropriate learning rate\n",
    "  optimizer = torch.optim.SGD(network.parameters(), lr=eta, momentum=momentum)\n",
    "\n",
    "  for epoch in range(epochs):\n",
    "    # evaluate average confidence for training and validation set\n",
    "    train_conf = validation_conf = 0.\n",
    "\n",
    "    for x,t in train_loader:\n",
    "\n",
    "      # extract logits (and deep features) from network\n",
    "      x = x.to(device)\n",
    "      t = t.to(device)\n",
    "      logits, _ = network(x)\n",
    "      \n",
    "      # compute loss\n",
    "      loss = loss_function(logits, t)\n",
    "      # perform weight update\n",
    "      optimizer.zero_grad()\n",
    "      loss.backward()\n",
    "      optimizer.step()\n",
    "\n",
    "      # compute training confidence\n",
    "      train_conf += confidence(logits, t).item()\n",
    "\n",
    "    # compute validation comfidence\n",
    "    with torch.no_grad():\n",
    "      for x,t in validation_loader:\n",
    "        # extract logits (and deep features)\n",
    "        x = x.to(device)\n",
    "        t = t.to(device)\n",
    "        logits, _ = network(x)\n",
    "        # compute validation confidence\n",
    "        validation_conf += confidence(logits, t).item()\n",
    "    # print average confidence for training and validation\n",
    "    print(f\"\\rEpoch {epoch}; train: {train_conf/len(train_set):1.5f}, val: {validation_conf/len(validation_set):1.5f}\")\n",
    "\n",
    "  return network"
   ],
   "outputs": [],
   "execution_count": 12
  },
  {
   "cell_type": "markdown",
   "metadata": {
    "id": "_MVLbae8RErZ"
   },
   "source": [
    "### Task 10: Network training\n",
    "\n",
    "Instantiate network with $K1=K2=32$, $K=20$ and $O = 4$. Train the network for 30 epochs with an appropriate learning rate (the optimal learning rate might depend on your loss function implementation and can vary between 0.1 and 0.00001), momentum=$0.9$, and call the function you defined in Task 9."
   ]
  },
  {
   "cell_type": "code",
   "metadata": {
    "id": "JiZKtxFdHaJx",
    "ExecuteTime": {
     "end_time": "2024-05-08T08:54:15.981445Z",
     "start_time": "2024-05-08T08:53:23.645230Z"
    }
   },
   "source": [
    "loss_function = adapted_softmax\n",
    "network_adapted = Network(32, 32, 20, 4)\n",
    "network_adapted = train(network_adapted, 30, 1e-4, 0.9, loss_function)"
   ],
   "outputs": [
    {
     "name": "stdout",
     "output_type": "stream",
     "text": [
      "Epoch 0; train: 0.77775, val: 0.83907\n",
      "Epoch 1; train: 0.88238, val: 0.88894\n",
      "Epoch 2; train: 0.90957, val: 0.92427\n",
      "Epoch 3; train: 0.92526, val: 0.93354\n",
      "Epoch 4; train: 0.93396, val: 0.93939\n",
      "Epoch 5; train: 0.94128, val: 0.94211\n",
      "Epoch 6; train: 0.94567, val: 0.94316\n",
      "Epoch 7; train: 0.94865, val: 0.95196\n",
      "Epoch 8; train: 0.95126, val: 0.95263\n",
      "Epoch 9; train: 0.95418, val: 0.95443\n",
      "Epoch 10; train: 0.95589, val: 0.95543\n",
      "Epoch 11; train: 0.95765, val: 0.95798\n",
      "Epoch 12; train: 0.95906, val: 0.95477\n",
      "Epoch 13; train: 0.96020, val: 0.95643\n",
      "Epoch 14; train: 0.96181, val: 0.96309\n",
      "Epoch 15; train: 0.96312, val: 0.96188\n",
      "Epoch 16; train: 0.96416, val: 0.96527\n",
      "Epoch 17; train: 0.96534, val: 0.96399\n",
      "Epoch 18; train: 0.96612, val: 0.96148\n",
      "Epoch 19; train: 0.96734, val: 0.96391\n",
      "Epoch 20; train: 0.96816, val: 0.96501\n",
      "Epoch 21; train: 0.96855, val: 0.96398\n",
      "Epoch 22; train: 0.96911, val: 0.96740\n",
      "Epoch 23; train: 0.96996, val: 0.96811\n",
      "Epoch 24; train: 0.97086, val: 0.96576\n",
      "Epoch 25; train: 0.97116, val: 0.96913\n",
      "Epoch 26; train: 0.97169, val: 0.96882\n",
      "Epoch 27; train: 0.97161, val: 0.96684\n",
      "Epoch 28; train: 0.97282, val: 0.97082\n",
      "Epoch 29; train: 0.97331, val: 0.97127\n"
     ]
    }
   ],
   "execution_count": 17
  },
  {
   "cell_type": "markdown",
   "metadata": {
    "id": "WDqRH6Bsm0L_"
   },
   "source": [
    "## Evaluation\n",
    "\n",
    "For evaluation, we test two different things.\n",
    "First, we check whether our intuition is correct, and the training helps reduce the deep feature magnitudes of unknown samples while maintaining magnitudes for known samples.\n",
    "It is also interesting to see whether there is a difference between samples of the negative classes that were seen during training, and unknown classes that were not.\n",
    "For this purpose, we extract the deep features for the validation and test sets, compute their magnitudes, and plot them in a histogram.\n",
    "\n",
    "The second evaluation computes Correct Classification Rates (CCR) and False Positive Rates (FPR) for a given confidence threshold $\\zeta=0.98$ (based on your training results, you might want to vary this threshold).\n",
    "For the known samples, we compute how often the correct class was classified with a confidence over threshold.\n",
    "For unknown samples, we assess how often one of the known classes was predicted with a confidence larger than $\\zeta$."
   ]
  },
  {
   "cell_type": "markdown",
   "metadata": {
    "id": "tnwwGYj17g2J"
   },
   "source": [
    "### Task 11: Feature Magnitude Plot\n",
    "\n",
    "Define a function, which can extract deep features for validation and test set samples and compute their magnitudes. Split them into known, negative (validation set), and unknown (test set). Plot a histogram for each of the three types of samples.\n",
    "Note that the minimum magnitude is 0, and the maximum magnitude can depend on your network training success."
   ]
  },
  {
   "metadata": {
    "ExecuteTime": {
     "end_time": "2024-05-08T08:54:22.451671Z",
     "start_time": "2024-05-08T08:54:21.822252Z"
    }
   },
   "cell_type": "code",
   "source": [
    "def plot_features(network):\n",
    "    # collect feature magnitudes for\n",
    "    known, negative, unknown = [], [], []\n",
    "\n",
    "    with torch.no_grad():\n",
    "        # extract deep features magnitudes for validation set\n",
    "        for x,t in validation_loader:\n",
    "            x = x.to(device)\n",
    "            t = t.to(device)\n",
    "            # extract deep features (and logits)\n",
    "            logits, deep_features = network(x)\n",
    "            # compute norms\n",
    "            norms = torch.norm(deep_features, dim=1)\n",
    "            # split between known and unknown\n",
    "            known_samples, _, unknown_samples = split_known_unknown(norms, t)\n",
    "            # collect norms of known samples\n",
    "            known.extend(known_samples.cpu().numpy())\n",
    "            # collect norms of negative samples\n",
    "            negative.extend(unknown_samples.cpu().numpy())\n",
    "\n",
    "        for x,t in test_loader:\n",
    "            x = x.to(device)\n",
    "            t = t.to(device)\n",
    "            # extract deep features (and logits)\n",
    "            logits, deep_features = network(x)\n",
    "            # compute norms\n",
    "            norms = torch.norm(deep_features, dim=1)\n",
    "            # split between known and unknown\n",
    "            known_samples, _, unknown_samples = split_known_unknown(norms, t)\n",
    "            # collect norms of known samples\n",
    "            known.extend(known_samples.cpu().numpy())\n",
    "            # collect norms of unknown samples\n",
    "            unknown.extend(unknown_samples.cpu().numpy())\n",
    "\n",
    "    # plot the norms as histograms\n",
    "    from matplotlib import pyplot\n",
    "    pyplot.figure(figsize=(4,2))\n",
    "\n",
    "    # keep the same maximum magnitude\n",
    "    max_mag = 20\n",
    "    # plot the three histograms\n",
    "    pyplot.hist(known, bins=100, range=(0,max_mag), density=True, color=\"g\", histtype=\"step\", label=\"Known\")\n",
    "    pyplot.hist(negative, bins=100, range=(0,max_mag), density=True, color=\"b\", histtype=\"step\", label=\"Negative\")\n",
    "    pyplot.hist(unknown, bins=100, range=(0,max_mag), density=True, color=\"r\", histtype=\"step\", label=\"Unknown\")\n",
    "\n",
    "    # beautify plot\n",
    "    pyplot.legend()\n",
    "    pyplot.xlabel(\"Deep Feature Magnitude\")\n",
    "    pyplot.ylabel(\"Density\")\n",
    "\n",
    "plot_features(network_adapted)"
   ],
   "outputs": [
    {
     "data": {
      "text/plain": [
       "<Figure size 400x200 with 1 Axes>"
      ],
      "image/png": "[encoded data removed]"
     },
     "metadata": {},
     "output_type": "display_data"
    }
   ],
   "execution_count": 18
  },
  {
   "cell_type": "markdown",
   "metadata": {
    "id": "nTSMfeJ_m0L_"
   },
   "source": [
    "### Task 12: Classification Evaluation\n",
    "\n",
    "For a fixed threshold of $\\zeta=0.98$, compute CCR and FPR for the test set.\n",
    "A well-trained network can achieve a CCR of > 90% for an FPR < 10%.\n",
    "You might need to vary the threshold."
   ]
  },
  {
   "metadata": {
    "ExecuteTime": {
     "end_time": "2024-05-08T08:54:25.707753Z",
     "start_time": "2024-05-08T08:54:25.408726Z"
    }
   },
   "cell_type": "code",
   "source": [
    "def evaluation(network):\n",
    "    zeta = 0.98\n",
    "\n",
    "    # count the correctly classified and the total number of known samples\n",
    "    correct = known = 0\n",
    "    # count the incorrectly classified and the total number of unknown samples\n",
    "    false = unknown = 0\n",
    "\n",
    "    with torch.no_grad():\n",
    "        for x,t in test_loader:\n",
    "            x = x.to(device)\n",
    "            t = t.to(device)\n",
    "            # extract logits (and deep features)\n",
    "            logits, _ = network(x)\n",
    "            # compute softmax confidences\n",
    "            conf = torch.nn.functional.softmax(logits, dim=1)\n",
    "\n",
    "            # split between known and unknown\n",
    "            known_samples, targets_known, unknown_samples = split_known_unknown(conf, t)\n",
    "\n",
    "            # compute number of correctly classified knowns above threshold\n",
    "            predictions = torch.argmax(known_samples, dim=1)\n",
    "            targets = torch.argmax(targets_known, dim=1)\n",
    "            correct_predictions = predictions == targets\n",
    "            correct += torch.sum(correct_predictions & (torch.max(known_samples, dim=1).values > zeta)).item()\n",
    "            known += len(known_samples)\n",
    "\n",
    "            # compute number of incorrectly accepted known samples\n",
    "            false += torch.sum(torch.max(unknown_samples, dim=1).values > zeta).item()\n",
    "            unknown += len(unknown_samples)\n",
    "\n",
    "    # print both rates\n",
    "    print (f\"CCR: {correct} of {known} = {correct/known*100:2.2f}%\")\n",
    "    print (f\"FPR: {false} of {unknown} = {false/unknown*100:2.2f}%\")\n",
    "\n",
    "evaluation(network_adapted)"
   ],
   "outputs": [
    {
     "name": "stdout",
     "output_type": "stream",
     "text": [
      "CCR: 3732 of 3983 = 93.70%\n",
      "FPR: 125 of 1967 = 6.35%\n"
     ]
    }
   ],
   "execution_count": 19
  },
  {
   "metadata": {
    "ExecuteTime": {
     "end_time": "2024-05-08T08:50:40.072510Z",
     "start_time": "2024-05-08T08:50:40.059891Z"
    }
   },
   "cell_type": "code",
   "source": "",
   "outputs": [],
   "execution_count": 15
  }
 ],
 "metadata": {
  "accelerator": "GPU",
  "colab": {
   "collapsed_sections": [
    "PN2b5uP2GOPh",
    "CNrxHSLz4p3y",
    "eRwI_rHe42nA"
   ],
   "gpuType": "T4",
   "provenance": []
  },
  "interpreter": {
   "hash": "2dd53f8ad749bca69f7250ce75eb4f0def59db5cf79075a9716322ffc58e8a2e"
  },
  "kernelspec": {
   "display_name": "Python 3 (ipykernel)",
   "name": "python3",
   "language": "python"
  },
  "language_info": {
   "codemirror_mode": {
    "name": "ipython",
    "version": 3
   },
   "file_extension": ".py",
   "mimetype": "text/x-python",
   "name": "python",
   "nbconvert_exporter": "python",
   "pygments_lexer": "ipython3",
   "version": "3.8.10"
  },
  "orig_nbformat": 4
 },
 "nbformat": 4,
 "nbformat_minor": 0
}
