{
  "cells": [
    {
      "cell_type": "markdown",
      "metadata": {
        "id": "G1Bbh59pz8A9"
      },
      "source": [
        "### Group Members:\n",
        "\n",
        "- Hangchen Xie, 22-736-789\n",
        "- Yanyang Gong, 23-744-063\n",
        "- Yaojie Wang, 23-741-283"
      ]
    },
    {
      "cell_type": "markdown",
      "metadata": {
        "id": "qjKES0hEz8A-"
      },
      "source": [
        "# Assignment 7: Transfer Learning\n",
        "\n",
        "\n",
        "The goal of this exercise is to learn how to use pre-trained networks in transfer learning tasks.\n",
        "We will make use of networks trained on ImageNet, and apply them to related problems, i.e., the classification of $6$ categories such as buildings, forests, glaciers, mountains, seas, and streets."
      ]
    },
    {
      "cell_type": "markdown",
      "metadata": {
        "id": "8oBW4jryz8A_"
      },
      "source": [
        "## Dataset\n",
        "\n",
        "For this exercise we use the  [Intel Image Classification](https://www.kaggle.com/datasets/puneet6060/intel-image-classification) dataset that can be downloaded from the official website [here]({https://www.kaggle.com/datasets/puneet6060/intel-image-classification}).\n",
        "The dataset contains $25000$ color images of pixels size $150\\times 150$ in $6$ classes: buildings, forests, glaciers, mountains, seas, and streets. We will be using only $17000$ of those images where $14000$ are for training and $3000$ for test."
      ]
    },
    {
      "cell_type": "markdown",
      "metadata": {
        "id": "3A_L5azMz8A_"
      },
      "source": [
        "### Test 0: Download and check if dataset is downloaded correctly"
      ]
    },
    {
      "cell_type": "markdown",
      "metadata": {
        "id": "_kgtTM0oz8A_"
      },
      "source": [
        "#### Download the dataset by running the code below"
      ]
    },
    {
      "cell_type": "code",
      "execution_count": 1,
      "metadata": {
        "id": "sBVTEq44z8A_"
      },
      "outputs": [],
      "source": [
        "#Library for downloading datasets from Kaggle\n",
        "! pip install opendatasets --upgrade --quiet"
      ]
    },
    {
      "cell_type": "code",
      "execution_count": 5,
      "metadata": {
        "colab": {
          "base_uri": "https://localhost:8080/"
        },
        "id": "L4kCrXQ_z8BA",
        "outputId": "081e382d-719b-4946-bc9f-2c4a03de0474"
      },
      "outputs": [
        {
          "output_type": "stream",
          "name": "stdout",
          "text": [
            "Skipping, found downloaded files in \"./intel-image-classification\" (use force=True to force download)\n"
          ]
        }
      ],
      "source": [
        "import json\n",
        "\n",
        "# Write kaggle.json file\n",
        "with open('kaggle.json', 'w') as file:\n",
        "    json.dump({'username': '', 'key': ''}, file)\n",
        "\n",
        "import opendatasets\n",
        "opendatasets.download('https://www.kaggle.com/puneet6060/intel-image-classification')"
      ]
    },
    {
      "cell_type": "markdown",
      "metadata": {
        "id": "nImWlYzbz8BA"
      },
      "source": [
        "After running the cell above, just verify that the dataset has been downloaded correctly by running the cell below."
      ]
    },
    {
      "cell_type": "code",
      "execution_count": 1,
      "metadata": {
        "colab": {
          "base_uri": "https://localhost:8080/"
        },
        "id": "kWNdBBJ4z8BB",
        "outputId": "65861fe5-9956-4edf-8fa1-067cfb32184d"
      },
      "outputs": [
        {
          "output_type": "stream",
          "name": "stdout",
          "text": [
            "Dataset is validated successfully. Test Passed\n"
          ]
        }
      ],
      "source": [
        "import os\n",
        "\n",
        "def count_images(directory):\n",
        "    \"\"\"Count the number of image files in the given directory and its subdirectories.\"\"\"\n",
        "    count = 0\n",
        "    for root, dirs, files in os.walk(directory):\n",
        "        count += sum(1 for file in files if file.endswith(('.jpg', '.jpeg', '.png')))\n",
        "    return count\n",
        "\n",
        "def validate_dataset(base_path):\n",
        "    \"\"\"Validate the structure and the count of images in the dataset.\"\"\"\n",
        "    expected_structure = {\n",
        "        'seg_train': 14034,\n",
        "        'seg_test': 3000\n",
        "    }\n",
        "\n",
        "    errors = []\n",
        "\n",
        "    # Check if base directory exists\n",
        "    if not os.path.exists(base_path):\n",
        "        errors.append(f\"Base directory {base_path} does not exist.\")\n",
        "        return errors\n",
        "\n",
        "    # Check each subdirectory and count images\n",
        "    for folder, expected_count in expected_structure.items():\n",
        "        folder_path = os.path.join(base_path, folder)\n",
        "        if not os.path.exists(folder_path):\n",
        "            errors.append(f\"Expected folder {folder_path} does not exist.\")\n",
        "        else:\n",
        "            image_count = count_images(folder_path)\n",
        "            if image_count != expected_count:\n",
        "                errors.append(f\"Folder {folder} has {image_count} images, expected {expected_count}.\")\n",
        "\n",
        "    return errors\n",
        "\n",
        "# Specify the path to the base of the dataset\n",
        "base_dataset_path = \"intel-image-classification/\" #Change if you downloaded manually to some other path\n",
        "\n",
        "# Perform the validation\n",
        "validation_errors = validate_dataset(base_dataset_path)\n",
        "\n",
        "if not validation_errors:\n",
        "    print(\"Dataset is validated successfully. Test Passed\")\n",
        "else:\n",
        "    print(\"Errors found in dataset validation:\")\n",
        "    for error in validation_errors:\n",
        "        print(error)"
      ]
    },
    {
      "cell_type": "markdown",
      "metadata": {
        "id": "xVzB0SDhz8BB"
      },
      "source": [
        "### Task 1: Data Transformation\n",
        "\n",
        "We need to instantiate a proper `torchvision.transform` instance to create the same input structure as used for training our network.\n",
        "We need to combine 4 transforms. The different transforms in Pytorch are available here: https://pytorch.org/vision/0.9/transforms.html.\n",
        "\n",
        "1. We need to resize the image such that the shorter side has size 256.\n",
        "2. We need to take the center crop of size $224\\times224$ from the image.\n",
        "3. We need to convert the image into a tensor (including pixel values scaling)\n",
        "4. We need to normalize the pixel values with mean $(0.485, 0.456, 0.406)$ and standard deviation $(0.229, 0.224, 0.225)$.\n",
        "\n",
        "Since we will use networks pre-trained on ImageNet, we need to perform the exact same transform as used for ImageNet testing."
      ]
    },
    {
      "cell_type": "code",
      "execution_count": 2,
      "metadata": {
        "id": "fWLquhCvz8BB"
      },
      "outputs": [],
      "source": [
        "import torch\n",
        "import torchvision\n",
        "\n",
        "imagenet_transform = torchvision.transforms.Compose([\n",
        "    torchvision.transforms.Resize(256),                                    # Resize the image such that the shorter side has size 256\n",
        "    torchvision.transforms.CenterCrop(224),                                # Take the center crop of size 224x224\n",
        "    torchvision.transforms.ToTensor(),                                     # Convert the image into a tensor\n",
        "    torchvision.transforms.Normalize(mean=[0.485, 0.456, 0.406],           # Normalize pixel values with mean\n",
        "                         std=[0.229, 0.224, 0.225])            # Normalize pixel values with standard deviation\n",
        "])"
      ]
    },
    {
      "cell_type": "markdown",
      "metadata": {
        "id": "lJOBjsX8z8BC"
      },
      "source": [
        "### Task 2: Dataset Loading\n",
        "\n",
        "We here use the [ImageFolder](https://pytorch.org/vision/main/generated/torchvision.datasets.ImageFolder.html) class from pytorch to load our training and test set respectively.\n",
        "\n",
        "This task consists of two parts:\n",
        "\n",
        "1. Create two datasets, one for the training set, one for the test set. Use the transform defined above.\n",
        "2. Once the datasets are created, create two data loaders, one for training set, one for test set. Use a proper value of the batch-size $B = 256$. Make sure the trainloader shuffle is set to True."
      ]
    },
    {
      "cell_type": "code",
      "execution_count": 3,
      "metadata": {
        "id": "9jIUlpKDz8BC"
      },
      "outputs": [],
      "source": [
        "from torchvision.datasets import ImageFolder\n",
        "\n",
        "#Path to your training and test data (If different, change the path accordingly)\n",
        "train_dir = './intel-image-classification/seg_train/seg_train/'\n",
        "test_dir = './intel-image-classification/seg_test/seg_test/'\n",
        "\n",
        "trainset =ImageFolder(train_dir, transform=imagenet_transform)\n",
        "\n",
        "testset = ImageFolder(test_dir, transform=imagenet_transform)"
      ]
    },
    {
      "cell_type": "code",
      "execution_count": 4,
      "metadata": {
        "id": "REkMp9-lz8BC"
      },
      "outputs": [],
      "source": [
        "B = 32\n",
        "trainloader =  torch.utils.data.DataLoader(trainset, batch_size=B, shuffle=True)\n",
        "testloader = torch.utils.data.DataLoader(testset, batch_size=B, shuffle=False)"
      ]
    },
    {
      "cell_type": "markdown",
      "metadata": {
        "id": "JH1qDfT6z8BC"
      },
      "source": [
        "### Test 1: Data Size and Types\n",
        "\n",
        "We check that all input images are `torch.tensors` of size $3\\times224\\times224$ and of type `torch.float` and that all labels are of type `int`.\n",
        "\n",
        "Note: the sanity check is only performed on the test set."
      ]
    },
    {
      "cell_type": "code",
      "execution_count": 6,
      "metadata": {
        "id": "wZ18ZYWHz8BC"
      },
      "outputs": [],
      "source": [
        "for x, t in testset:\n",
        "  assert isinstance(x, torch.Tensor)\n",
        "  assert isinstance(t, int)\n",
        "  assert x.shape==(3,224,224)\n",
        "  assert x.dtype==torch.float\n",
        "  assert x.max() < 3.0\n",
        "  assert x.min() > -3.0"
      ]
    },
    {
      "cell_type": "markdown",
      "metadata": {
        "id": "GrAdTfjUz8BD"
      },
      "source": [
        "## Deep Feature Extraction\n",
        "\n",
        "We will use a pre-trained network available in `PyTorch`.\n",
        "Particularly, we will use a ResNet-50 architecture, but other architectures can also be tested.\n",
        "Fortunately, PyTorch provides simple interfaces to obtain pre-trained models, e.g., using the `torchvision.models.resnet50` interface function.\n",
        "\n",
        "In order to use the networks in a different dataset, we need to change their outputs.\n",
        "There are several possibilities on how to achieve that, and you have the freedom to choose.\n",
        "\n",
        "For your reference, the implementation of the `forward` function of ResNet networks (including ResNet-50) can be found here: https://github.com/pytorch/vision/blob/main/torchvision/models/resnet.py#L266\n",
        "\n",
        "You can also check if other networks perform better, for example, deeper ResNet topologies.\n",
        "Be aware that the strategy to replace the last fully-connected layer might not work the same way in other network topologies, only in residual networks."
      ]
    },
    {
      "cell_type": "markdown",
      "metadata": {
        "id": "UcokGYyuz8BD"
      },
      "source": [
        "### Task 3: Pre-trained Network Instantiation\n",
        "\n",
        "Instantiate two pre-trained networks of type ResNet-50.\n",
        "\n",
        "1. Freeze the feature layers of the first network.\n",
        "\n",
        "Note: Make use the `old TorchVision Interface` to load your pre-trained network. Here is the link: https://pytorch.org/vision/0.12/models.html"
      ]
    },
    {
      "cell_type": "code",
      "execution_count": 7,
      "metadata": {
        "colab": {
          "base_uri": "https://localhost:8080/"
        },
        "id": "wWwRtxA9z8BD",
        "outputId": "aedb6ca4-d055-47b8-fc79-bc263f30055d"
      },
      "outputs": [
        {
          "output_type": "stream",
          "name": "stderr",
          "text": [
            "Downloading: \"https://download.pytorch.org/models/resnet50-11ad3fa6.pth\" to /root/.cache/torch/hub/checkpoints/resnet50-11ad3fa6.pth\n",
            "100%|██████████| 97.8M/97.8M [00:00<00:00, 164MB/s]\n"
          ]
        }
      ],
      "source": [
        "# instantiate the first pre-trained resnet 50 network\n",
        "network_1 = torchvision.models.resnet50(weights=torchvision.models.ResNet50_Weights.DEFAULT)\n",
        "# Make sure to freeze all the layers of the network.\n",
        "for param in network_1.parameters():\n",
        "    param.requires_grad = False  # Freeze all the layers of the network\n",
        "\n",
        "# instantiate the second pre-trained resnet 50 network without the freezing\n",
        "network_2 = torchvision.models.resnet50(weights=torchvision.models.ResNet50_Weights.DEFAULT)"
      ]
    },
    {
      "cell_type": "markdown",
      "metadata": {
        "id": "vuSeebK2z8BD"
      },
      "source": [
        "### Task 4: Network Implementation\n",
        "\n",
        "We want to modify the network such that we extract the logits for the 6 classes from the last fully-connected layer of the network.\n",
        "\n",
        "Implement a function that:\n",
        "1. Replaces the current last linear layer of the pre-trained network with a new linear layer that has $O$ units ($O$ represents the number of classes in our dataset)."
      ]
    },
    {
      "cell_type": "code",
      "execution_count": 8,
      "metadata": {
        "id": "e2p5V_e0z8BD"
      },
      "outputs": [],
      "source": [
        "def replace_last_layer(network, O=6):\n",
        "\n",
        "  # replace the last linear layer with the new layer\n",
        "  # Get the number of input features for the last linear layer\n",
        "  in_features = network.fc.in_features\n",
        "  # Define a new linear layer with O output units\n",
        "  new_linear_layer = torch.nn.Linear(in_features, O)\n",
        "  # Replace the last linear layer of the network with the new linear layer\n",
        "  network.fc = new_linear_layer\n",
        "\n",
        "  return network"
      ]
    },
    {
      "cell_type": "markdown",
      "metadata": {
        "id": "27Nh74igz8BD"
      },
      "source": [
        "### Test 2: Last layer dimensions\n",
        "\n",
        "This test ensures that the function return a network having the correct number of input and output units in the last layer."
      ]
    },
    {
      "cell_type": "code",
      "execution_count": 9,
      "metadata": {
        "id": "1YdPJyEiz8BE"
      },
      "outputs": [],
      "source": [
        "O = 6\n",
        "for network in (network_1, network_2):\n",
        "    new_model = replace_last_layer(network, O=O)\n",
        "    assert new_model.fc.out_features == O\n",
        "    assert new_model.fc.in_features == 2048"
      ]
    },
    {
      "cell_type": "markdown",
      "metadata": {
        "id": "C1I3uorqz8BE"
      },
      "source": [
        "## Network Training\n",
        "Implement a function that takes all necessary parameters to run a training on a given dataset.\n",
        "Select the optimizer to be `torch.optim.SGD` and `torch.nn.CrossEntropyLoss` as the loss function.\n",
        "The test set will be used as the validation set."
      ]
    },
    {
      "cell_type": "markdown",
      "metadata": {
        "id": "leoaqPw_z8BE"
      },
      "source": [
        "### Task 5: Training and Evaluation Loop\n",
        "\n",
        "Implement a training loop over a specific number of epochs (5) with a learning rate of $\\eta=0.001$ and momentum of $\\mu = 0.9$. The function should return the predictions and the labels on the validation set after 5 epochs.\n",
        "\n",
        "- In each loop, compute and print the training loss, training accuracy, validation loss and validation accuracy.\n",
        "\n",
        "- Make sure that you train on the training data only, and `not` on the validation data.\n",
        "\n",
        "- During training, make sure your model is in training mode - `model.train()` while during test it is in eval mode - `model.eval()`\n",
        "\n",
        "- Moreover, during eval mode - please use `with torch.no_grad():` and loop on testloader inside it. This disables gradient computation and therefore saves memory.\n",
        "\n",
        "- While saving your pred and target, please use `.detach().cpu().numpy()` before appending your predictions and targets to your list that you will return at the end of your function."
      ]
    },
    {
      "cell_type": "code",
      "execution_count": 14,
      "metadata": {
        "id": "_kDjVWSHz8BE"
      },
      "outputs": [],
      "source": [
        "def train_eval(network, trainloader, testloader, num_epochs=5, eta=0.001, miu=0.9):\n",
        "    device = torch.device(\"cuda\" if torch.cuda.is_available() else \"cpu\")\n",
        "    # Move the network to GPU if available\n",
        "    network.to(device)\n",
        "\n",
        "    optimizer = torch.optim.SGD(network.parameters(), lr=eta, momentum=miu)\n",
        "    loss = torch.nn.CrossEntropyLoss()\n",
        "\n",
        "\n",
        "    for epoch in range(num_epochs):\n",
        "\n",
        "        # training process\n",
        "        # Set your model to model.train()\n",
        "        network.train()\n",
        "        running_loss = 0.0\n",
        "        correct_train = 0\n",
        "        total_train = 0\n",
        "\n",
        "        for inputs, labels in trainloader:\n",
        "            inputs, labels = inputs.to(device), labels.to(device)\n",
        "\n",
        "            optimizer.zero_grad()\n",
        "\n",
        "            outputs = network(inputs)\n",
        "            loss_value = loss(outputs, labels)\n",
        "            loss_value.backward()\n",
        "            optimizer.step()\n",
        "\n",
        "            # Calculate training accuracy\n",
        "            _, predicted = torch.max(outputs, 1)\n",
        "            total_train += labels.size(0)\n",
        "            correct_train += (predicted == labels).sum().item()\n",
        "\n",
        "            running_loss += loss_value.item()\n",
        "\n",
        "        train_loss = running_loss / len(trainloader)\n",
        "        train_acc = correct_train / total_train\n",
        "\n",
        "        # testing process\n",
        "        # Set your model to model.eval(). Use with torch.no_grad() and loop inside it for testloader\n",
        "        network.eval()\n",
        "        running_loss = 0.0\n",
        "        correct_test = 0\n",
        "        total_test = 0\n",
        "\n",
        "        with torch.no_grad():\n",
        "            for inputs, labels in testloader:\n",
        "                inputs, labels = inputs.to(device), labels.to(device)\n",
        "\n",
        "                outputs = network(inputs)\n",
        "                loss_value = loss(outputs, labels)\n",
        "\n",
        "                # Calculate validation accuracy\n",
        "                _, predicted = torch.max(outputs, 1)\n",
        "                total_test += labels.size(0)\n",
        "                correct_test += (predicted == labels).sum().item()\n",
        "\n",
        "                running_loss += loss_value.item()\n",
        "\n",
        "\n",
        "        # Calculate and print accuracies and losses for current epoch\n",
        "        test_loss = running_loss / len(testloader)\n",
        "        test_acc = correct_test / total_test\n",
        "\n",
        "        print(f\"Epoch {epoch+1}/{num_epochs}, \"\n",
        "              f\"Train Loss: {train_loss:.4f}, Train Acc: {100 * train_acc:.2f}%, \"\n",
        "              f\"Val Loss: {test_loss:.4f}, Val Acc: {100 * test_acc:.2f}%\")\n",
        "\n",
        "    # Save predictions and target labels of the test set after the last epoch\n",
        "    pred, target = [], [] #Store only the test results\n",
        "    with torch.no_grad():\n",
        "        for inputs, labels in testloader:\n",
        "            inputs = inputs.to(device)\n",
        "            outputs = network(inputs)\n",
        "            _, predicted = torch.max(outputs, 1)\n",
        "            pred.append(predicted.detach().cpu().numpy())\n",
        "            target.append(labels.detach().cpu().numpy())\n",
        "\n",
        "    return pred, target"
      ]
    },
    {
      "cell_type": "markdown",
      "metadata": {
        "id": "5ikoqGifz8BE"
      },
      "source": [
        "### Task 6: Network Fine-Tuning with Frozen Layers\n",
        "\n",
        "Create a network that has feature layers frozen with $6$ output units.\n",
        "Fine-tune the created network on our Intel Image Classification data using the previous function."
      ]
    },
    {
      "cell_type": "code",
      "execution_count": 15,
      "metadata": {
        "colab": {
          "base_uri": "https://localhost:8080/"
        },
        "id": "-eVbhxN8z8BE",
        "outputId": "dceb92f5-36af-4b7a-95c6-2264138121c8"
      },
      "outputs": [
        {
          "output_type": "stream",
          "name": "stdout",
          "text": [
            "Epoch 1/5, Train Loss: 0.7806, Train Acc: 81.52%, Val Loss: 0.4858, Val Acc: 87.83%\n",
            "Epoch 2/5, Train Loss: 0.4373, Train Acc: 88.06%, Val Loss: 0.3981, Val Acc: 88.37%\n",
            "Epoch 3/5, Train Loss: 0.3751, Train Acc: 88.89%, Val Loss: 0.3552, Val Acc: 88.97%\n",
            "Epoch 4/5, Train Loss: 0.3430, Train Acc: 89.80%, Val Loss: 0.3314, Val Acc: 89.60%\n",
            "Epoch 5/5, Train Loss: 0.3260, Train Acc: 90.03%, Val Loss: 0.3135, Val Acc: 89.47%\n"
          ]
        }
      ],
      "source": [
        "network_with_frozen_layers = network_1\n",
        "\n",
        "pred_frozen, targ_frozen = train_eval(replace_last_layer(network_with_frozen_layers), trainloader, testloader)"
      ]
    },
    {
      "cell_type": "markdown",
      "metadata": {
        "id": "fhj4PlGVz8BF"
      },
      "source": [
        "### Task 7: Network Fine-Tuning without Frozen Layers\n",
        "\n",
        "Create a network from the second pre-trained network with $6$ output units. This network should not have the layers frozen.\n",
        "Fine-tune the created network on our dataset.\n",
        "\n",
        "Note:\n",
        "\n",
        "  * The fine-tuning of the network can take a long time (> 30 minutes) when the layers are not frozen."
      ]
    },
    {
      "cell_type": "code",
      "source": [
        "#torch.cuda.empty_cache()"
      ],
      "metadata": {
        "id": "N6f__txBJhwp"
      },
      "execution_count": 16,
      "outputs": []
    },
    {
      "cell_type": "code",
      "execution_count": 23,
      "metadata": {
        "colab": {
          "base_uri": "https://localhost:8080/"
        },
        "id": "FGrEi0elz8BF",
        "outputId": "e0e7c22a-dc72-4a7b-8c8b-2738552f9f65"
      },
      "outputs": [
        {
          "output_type": "stream",
          "name": "stdout",
          "text": [
            "Epoch 1/5, Train Loss: 0.5411, Train Acc: 83.60%, Val Loss: 0.2384, Val Acc: 92.00%\n",
            "Epoch 2/5, Train Loss: 0.2278, Train Acc: 92.33%, Val Loss: 0.2011, Val Acc: 92.60%\n",
            "Epoch 3/5, Train Loss: 0.1732, Train Acc: 94.18%, Val Loss: 0.1946, Val Acc: 92.93%\n",
            "Epoch 4/5, Train Loss: 0.1291, Train Acc: 95.60%, Val Loss: 0.1962, Val Acc: 92.83%\n",
            "Epoch 5/5, Train Loss: 0.0987, Train Acc: 96.86%, Val Loss: 0.2068, Val Acc: 92.53%\n"
          ]
        }
      ],
      "source": [
        "network_normal = network_2 # Use network_2 defined above and replace the last layer\n",
        "\n",
        "pred_unfrozen, targ_unfrozen = train_eval(replace_last_layer(network_normal), trainloader, testloader)"
      ]
    },
    {
      "cell_type": "markdown",
      "metadata": {
        "id": "wpVeEWmhz8BF"
      },
      "source": [
        "## Plotting\n",
        "\n",
        "Finally, we want to plot the confusion matrix of the test set.\n",
        "For this, we need use the predictions and target values we saved from the previous tasks (Task 6 and Task 7).\n",
        "Finally, we can make use of the `sklearn.metrics.confusion_matrix` to compute the confusion matrix.\n",
        "You can utilize `sklearn.metrics.ConfusionMatrixDisplay` for displaying the confusion matrix, or `pyplot.imshow` and adding the according labels.\n",
        "\n",
        "Note:\n",
        "\n",
        "  * The documentation for the confusion matrix can be found here: https://scikit-learn.org/stable/modules/generated/sklearn.metrics.confusion_matrix.html\n",
        "  * The interface and an example for the `ConfusionMatrixDisplay` can be found here: https://scikit-learn.org/stable/modules/generated/sklearn.metrics.ConfusionMatrixDisplay.html"
      ]
    },
    {
      "cell_type": "markdown",
      "metadata": {
        "id": "0ZtaSeg6z8BF"
      },
      "source": [
        "### Task 8: Confusion Matrix Plotting\n",
        "\n",
        "* Plot the confusion matrix for the fine-tuned network with frozen layers.\n",
        "* Also plot the confusion matrix for the second fine-tuned network without frozen layers.\n",
        "* Compare the two"
      ]
    },
    {
      "cell_type": "code",
      "execution_count": 26,
      "metadata": {
        "colab": {
          "base_uri": "https://localhost:8080/",
          "height": 524
        },
        "id": "UZNONVGAz8BF",
        "outputId": "a49ac957-d2f4-409d-9727-7d0fd8cf03fa"
      },
      "outputs": [
        {
          "output_type": "display_data",
          "data": {
            "text/plain": [
              "<Figure size 640x480 with 2 Axes>"
            ],
            "image/png": "[encoded data removed]"
          },
          "metadata": {}
        }
      ],
      "source": [
        "from sklearn.metrics import confusion_matrix, ConfusionMatrixDisplay\n",
        "import matplotlib.pyplot as plt\n",
        "import numpy as np\n",
        "\n",
        "# add axis labels if required\n",
        "classes = trainset.classes\n",
        "\n",
        "# compute confusion matrix\n",
        "matrix_frozen = confusion_matrix(np.concatenate(pred_frozen), np.concatenate(targ_frozen)) # Use predictions and target from the fine-tuned network with frozen layers\n",
        "matrix_unfrozen = confusion_matrix(np.concatenate(pred_unfrozen), np.concatenate(targ_unfrozen)) # Use predictions and target from the fine-tuned network without frozen layers\n",
        "\n",
        "# plot confusion matrices\n",
        "plot_conf_matrix1 = ConfusionMatrixDisplay(confusion_matrix=matrix_frozen, display_labels=classes)\n",
        "plot_conf_matrix1.plot(xticks_rotation = \"vertical\")\n",
        "plt.title(\"Confusion Matrix - Fine-Tuned Network with Frozen Layers\")\n",
        "plt.show()"
      ]
    },
    {
      "cell_type": "code",
      "execution_count": 27,
      "metadata": {
        "colab": {
          "base_uri": "https://localhost:8080/",
          "height": 524
        },
        "id": "X6JqHU72z8BF",
        "outputId": "6d646917-ae91-4133-c4f7-1d0e6a478359"
      },
      "outputs": [
        {
          "output_type": "display_data",
          "data": {
            "text/plain": [
              "<Figure size 640x480 with 2 Axes>"
            ],
            "image/png": "[encoded data removed]"
          },
          "metadata": {}
        }
      ],
      "source": [
        "plot_conf_matrix2 = ConfusionMatrixDisplay(confusion_matrix=matrix_unfrozen, display_labels=classes)\n",
        "plot_conf_matrix2.plot(xticks_rotation = \"vertical\")\n",
        "plt.title(\"Confusion Matrix - Fine-Tuned Network without Frozen Layers\")\n",
        "plt.show()"
      ]
    }
  ],
  "metadata": {
    "interpreter": {
      "hash": "2dd53f8ad749bca69f7250ce75eb4f0def59db5cf79075a9716322ffc58e8a2e"
    },
    "kernelspec": {
      "display_name": "Python 3",
      "name": "python3"
    },
    "language_info": {
      "codemirror_mode": {
        "name": "ipython",
        "version": 3
      },
      "file_extension": ".py",
      "mimetype": "text/x-python",
      "name": "python",
      "nbconvert_exporter": "python",
      "pygments_lexer": "ipython3",
      "version": "3.9.16"
    },
    "orig_nbformat": 4,
    "colab": {
      "provenance": [],
      "gpuType": "T4"
    },
    "accelerator": "GPU"
  },
  "nbformat": 4,
  "nbformat_minor": 0
}