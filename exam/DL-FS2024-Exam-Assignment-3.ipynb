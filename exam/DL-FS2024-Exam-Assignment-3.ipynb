{
 "cells": [
  {
   "cell_type": "markdown",
   "metadata": {},
   "source": [
    "# Assignment 3: Image Classification with Convolutional Neural Network\n",
    "\n",
    "A convolutional network should be designed for the automatic classification of digits in street house numbers.\n",
    "Particularly, we make use of the SVHN dataset, which is composed of 10 different classes, one for each digit, and implemented in the `torchvision.datasets`: https://pytorch.org/vision/stable/generated/torchvision.datasets.SVHN.html\n",
    "The color images are of size $32\\times32$ pixels, where the house number of interest is in the center of the image.\n",
    "\n",
    "Additionally to the network, you are supposed to implement at least one regularization techniques that you defined in Task (b).\n",
    "Note that such techniques can be implemented in the network design as well as in the training loop.\n",
    "Make sure that you adapt your code as to accommodate these regularization techniques."
   ]
  },
  {
   "cell_type": "markdown",
   "metadata": {},
   "source": [
    "## Task (c) Dataset and Data Loaders\n",
    "\n",
    "Instantiate the training and the test set of the SVHN dataset.\n",
    "Set the original data to download automatically.\n",
    "Apply appropriate transforms to the training and the test datasets.\n",
    "Instantiate data loaders for the two datasets with reasonable parameters."
   ]
  },
  {
   "cell_type": "code",
   "execution_count": null,
   "metadata": {},
   "outputs": [],
   "source": [
    "import torchvision\n",
    "import torch\n",
    "\n",
    "# instantiate the training set\n",
    "\n",
    "\n",
    "# instantiate the test set\n"
   ]
  },
  {
   "cell_type": "markdown",
   "metadata": {},
   "source": [
    "## Image Samples\n",
    "\n",
    "We provide the source code to visualize some samples of the training set.\n",
    "We also print the class labels for the data, which are arranged in the same grid as the images.\n",
    "Feel free to run the code below."
   ]
  },
  {
   "cell_type": "code",
   "execution_count": null,
   "metadata": {},
   "outputs": [],
   "source": [
    "from matplotlib import pyplot\n",
    "\n",
    "fig, axes = pyplot.subplots(5,10,figsize=(10,5))\n",
    "\n",
    "for i in range(5):\n",
    "    for j in range(10):\n",
    "        image, label = training_dataset[i*10+j]\n",
    "        axes[i][j].imshow(image.permute(1,2,0))\n",
    "        axes[i][j].axis(\"off\")\n",
    "        print(label, end=\" \")\n",
    "    print()"
   ]
  },
  {
   "cell_type": "markdown",
   "metadata": {},
   "source": [
    "## Task (d): Convolutional Network Implementation\n",
    "\n",
    "The convolutional network is designed with the following layers:\n",
    "\n",
    "- A convolution layer with kernel size $5\\times5$, 32 output channels, stride 1, padding 2 in vertical dimension only.\n",
    "- A maximum pooling layer of size $2\\times2$.\n",
    "- A convolution layer with kernel size $5\\times5$, 64 output channels, stride 1, padding 2 in vertical dimension only.\n",
    "- A maximum pooling layer of size $2\\times2$.\n",
    "- A convolution layer with kernel size $5\\times5$, 128 output channels, stride 1, padding 2 in vertical dimension only.\n",
    "- A fully-connected layer with $K$ inputs and $O$ outputs.\n",
    "\n",
    "Please add additional layers in your implementation whenever you see the need for them."
   ]
  },
  {
   "cell_type": "code",
   "execution_count": null,
   "metadata": {},
   "outputs": [],
   "source": [
    "import torch\n",
    "\n",
    "# implement and instantiate network\n",
    "\n",
    "\n"
   ]
  },
  {
   "cell_type": "markdown",
   "metadata": {},
   "source": [
    "# Task (e): Network Training\n",
    "\n",
    "Instantiate an appropriate loss function and an optimizer, with reasonable parameters. \n",
    "Train the network for 10 epochs on the GPU device (during development, you can use the CPU device, but at the end, the code should be able to run on the GPU). \n",
    "Compute the average training set loss within an epoch. \n",
    "Compute the test set accuracy at the end of each epoch, and print it together with the training set loss."
   ]
  },
  {
   "cell_type": "code",
   "execution_count": null,
   "metadata": {},
   "outputs": [],
   "source": [
    "# Instantiate loss function\n",
    "\n",
    "\n",
    "# instantiate optimizer\n",
    "\n",
    "\n",
    "# make sure to train everything on the GPU\n",
    "\n",
    "\n",
    "for epoch in range(10):\n",
    "    # train the network on the training set\n",
    "   \n",
    "        # train on the batch\n",
    "        \n",
    "        # aggregate training set loss\n",
    "        \n",
    "\n",
    "    # evaluate of the test set\n",
    "    \n",
    "        # classify original samples\n",
    "           \n",
    "\n",
    "    # print average training set loss and test set accuracy\n",
    "    "
   ]
  }
 ],
 "metadata": {
  "kernelspec": {
   "display_name": "DLExam",
   "language": "python",
   "name": "python3"
  },
  "language_info": {
   "codemirror_mode": {
    "name": "ipython",
    "version": 3
   },
   "file_extension": ".py",
   "mimetype": "text/x-python",
   "name": "python",
   "nbconvert_exporter": "python",
   "pygments_lexer": "ipython3",
   "version": "3.10.14"
  }
 },
 "nbformat": 4,
 "nbformat_minor": 2
}
